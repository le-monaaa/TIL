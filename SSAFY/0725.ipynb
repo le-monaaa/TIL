{
 "cells": [
  {
   "cell_type": "markdown",
   "metadata": {},
   "source": [
    "### 비시퀀스 데이터 구조\n",
    "#### 세트\n",
    "\n",
    "세트 : 고유한 항목들의 정렬되지 않은 컬렉션\n",
    "\n",
    "s.add(x) : 세트 s에 항목 x를 추가. 이미 있다면 변화 없음\n",
    "s.clear() : 세트 s의 모든 항목을 제거\n",
    "s.remove(x) : 세트 s에서 항목 x를 제거. 항목 x가 없을 경우 ket error\n",
    "s.pop() : 세트 s에서 랜덤하게 항목을 반환하고, 해당 항목을 제거\n",
    "s.discard(x) : 세트 s에서 항목 x를 제거 error x\n",
    "s.update(iterable) : 세트 s에 다른 iterable 요소를 추가\n",
    "\n",
    "#### 세트의 집합 메서드\n",
    "\n",
    "set1.difference(set2) : set1 o, set2 x한 항목으로 세트 생성 후 반환 set1-set2\n",
    "set1.intersection(set2) : set1 o, set o 한 항목으로 세트 생성 후 반환 set1 & set2\n",
    "set1.issubset(set2) : set1의 항목이 모두 set2에 들이었으면 True. set1 <= set2\n",
    "set1.issuperset(set2) : set1에 set2항목이 모두 포함되어있으면 True. set1>=set2\n",
    "set1.union(set2) : set1 or set2, set1 & set2한 항목으로 세트 생성 후 반환 set1 | set2\n"
   ]
  },
  {
   "cell_type": "code",
   "execution_count": 1,
   "metadata": {},
   "outputs": [
    {
     "name": "stdout",
     "output_type": "stream",
     "text": [
      "{0, 1, 2, 3, 4, 99, 100, 5, 7, 9}\n"
     ]
    }
   ],
   "source": [
    "set1 = {0,1,2,3,4}\n",
    "set2 = {1,3,5,7,9,100,99}\n",
    "\n",
    "print(set1.union(set2)) #순서가 있는 것처럼 보일 수 있지만 세트는 순서가 없다."
   ]
  },
  {
   "cell_type": "markdown",
   "metadata": {},
   "source": [
    "#### 딕셔너리\n",
    "\n",
    "딕셔너리 : 고유한 항목들의 정렬되지 않은 컬렉션\n",
    "컬렉션- 값을 여러개 가질 수 있음\n",
    "\n",
    "D.clear() : 모든 키/값 쌍 제거\n",
    "D.get(k) : 키 k에 연결된 값을 반환 (키 없으면 None 반환)\n",
    "D.get(k, v) : 키 k에 연결된 값 반환 (키 없으면 기본값으로 v를 반환)\n",
    "D.keys() : 딕셔너리D의 키를 모은 객체를 반환\n",
    "D.values() : 딕셔너리D의 값을 모은 객체를 반환\n",
    "D.items() :  딕셔너리D의 키/값 쌍을 모은 객체를 반환 -->튜플로 반환\n",
    "D.pop(k [, default]) : 딕셔너리D에서 키 k를 제거하고 연결됐던 값을 반환 (없을 시 error)(defualt 작성시 default값 반환.)\n",
    "D.setdefault(k) : 딕셔너리D에서 키 k와 연결된 값을 반환\n",
    "D.setdafault(k, v) : 딕셔너리D에서 키 k와 연결된 값을 반환. k가 D의 키가 아니라면 k를 D에 추가하고 v를 반환\n",
    "D.update(other) : other 내 각 키에 대해 D에 있는 키면 D에 있는 그 키의 값을 other에 있는 값으로 대체. 없는 키/값은 추가. 키는 중복되지 않으니 중복될경우 마지막 값으로 덮어씌워진다.\n",
    "other에 있는 각 키에 대해 D에 없는 키면 키/값 쌍을 D에 추가."
   ]
  },
  {
   "cell_type": "code",
   "execution_count": null,
   "metadata": {},
   "outputs": [],
   "source": [
    "my_dict = {\n",
    "    \"name\" : \"Alice\"\n",
    "}\n",
    "\n",
    "print(my_dict[\"name\"])\n",
    "print(my_dict.get(\"name\")) \n",
    "#결괏값같음\n",
    "\n",
    "#찾고자하는 키가 없을 때\n",
    "print(my_dict[\"age\"]) #keyError #[]로 찾으면 key가 없는 경우 error\n",
    "print(my_dict.get(\"age\")) #None #.get()으로 찾으면 없는경우 None\n",
    "print(my_dict.get(\"age\", \"Unknown\")) # Unknown #없는경우 반환할 값을 정해줄 수도 있음\n"
   ]
  },
  {
   "cell_type": "code",
   "execution_count": 8,
   "metadata": {},
   "outputs": [
    {
     "name": "stdout",
     "output_type": "stream",
     "text": [
      "None\n",
      "{'name': 'Alice', 'age': 25, 'height': None}\n",
      "Alice\n",
      "Alice\n",
      "reading\n",
      "{'name': 'Alice', 'age': 25, 'height': None, 'hobby': 'reading'}\n"
     ]
    }
   ],
   "source": [
    "my_dict = {\n",
    "    \"name\" : \"Alice\",\n",
    "    \"age\" : 25\n",
    "}\n",
    "\n",
    "print(my_dict.setdefault(\"height\")) # 값 안넣고 실행시 None 배정\n",
    "print(my_dict)\n",
    "print(my_dict.setdefault(\"name\")) # 이미 존재하는 key는 값 반환\n",
    "print(my_dict.setdefault(\"name\", \"Jane\")) # 이미 존재하는 값은 변경되지 않음\n",
    "print(my_dict.setdefault(\"hobby\", \"reading\"))\n",
    "print(my_dict)\n",
    "\n",
    "\n"
   ]
  },
  {
   "cell_type": "code",
   "execution_count": null,
   "metadata": {},
   "outputs": [],
   "source": [
    "#혈액형 인원수 세기\n",
    "#결과 {\"A\" : 3, \"B\" : 3, \"o\" : 3, \"AB\" : 3}\n",
    "\n",
    "blood_types = [\"A\", \"B\", \"O\", \"AB\", \"A\", \"B\", \"O\", \"AB\", \"A\", \"B\", \"O\", \"AB\"]\n",
    "\n",
    "# []\n",
    "new_dict = {}\n",
    "# blood_type을 순회하면서\n",
    "for blood_type in blood_types:\n",
    "    #기존에 키가 이미 존재한다면\n",
    "    if blood_type in new_dict:\n",
    "        #기존의 키의 값을 +1\n",
    "        new_dict[blood_type] += 1\n",
    "    else:    \n",
    "    #처음 설정되는 키라면\n",
    "        new_dict[blood_type] = 1\n",
    "\n",
    "print(new_dict)\n",
    "\n",
    "# .get()\n",
    "new_dict = {}\n",
    "# blood_type을 순회하면서\n",
    "for blood_type in blood_types:\n",
    "    new_dict.get(blood_type, 0) + 1 #기존에 값이 있을 때 0은 동작x 그후 +1\n",
    "    # default값을 1로 설정하면 값이 없을 때 이미 1이 더해져버리는 것.\n",
    "\n",
    "print(new_dict)\n",
    "\n",
    "# .setdefault()\n",
    "new_dict = {}\n",
    "for blood_type in blood_types:\n",
    "    new_dict.setdefault(blood_type, 0) #없는경우 0으로 셋팅\n",
    "    new_dict[blood_type] += 1 # +1\n",
    "print(new_dict)"
   ]
  },
  {
   "cell_type": "markdown",
   "metadata": {},
   "source": [
    "### 복사\n",
    "\n",
    "파이썬에서는 변경 가능한 데이터 타입과 변경 불가능한 데이터 타입의 분류에 따라 복사가 달라짐.\n",
    "\n",
    "변경 가능한 타입- 원본 객체의 데이터 변동시 같이 변동\n",
    "변경 불가능한 타입- 원본 객체의 데이터 변동시 영향 없음 아예 다른곳을 참조.\n",
    "\n",
    "1. 할당 ( = )\n",
    " 할당 연산자를 통한 복사는 해당 객체에 대한 객체 참조를 복사\n",
    " 변수만 다를 뿐 같은 곳을 참조함(주소가 복사된 것). 같은 항목이었다,\n",
    "\n",
    "2. 얕은 복사 (슬라이싱, copy)\n",
    " 슬라이싱을 통해 생성된 객체는 원본 객체와 독립적으로 존재\n",
    " \n",
    " -> 변경가능한 객체 안에 변경 가능한 객체가 있는 경우\n",
    " - 값 변경시 공유됨.\n",
    "  a와 b의 주소는 다르지만 내부 객체의 주소가 같기 때문에//\n",
    "\n",
    "3. 깊은 복사\n",
    "내부에 중첩된 모든 객체까지 새로운 객체 주소를 참조하도록 함\n"
   ]
  },
  {
   "cell_type": "code",
   "execution_count": 11,
   "metadata": {},
   "outputs": [
    {
     "name": "stdout",
     "output_type": "stream",
     "text": [
      "[1, 2, 3] [100, 2, 3]\n",
      "[1, 2, [999, 2]] [1, 2, [999, 2]]\n",
      "[1, 2, [999, 2]] [1, 2, [999, 2]]\n",
      "[1, 2, [1, 2]] [1, 2, [999, 2]]\n"
     ]
    }
   ],
   "source": [
    "a = [1, 2, 3]\n",
    "c = a.copy()\n",
    "c[0] = 100\n",
    "\n",
    "print(a, c) # [1,2,3][100,2,3]\n",
    "\n",
    "#얕은복사의 한계\n",
    "a = [1, 2, [1, 2]]\n",
    "#슬라이싱\n",
    "b = a[:]\n",
    "b[2][0] = 999 #b 내부의 리스트 값 변경\n",
    "print(a, b) #a값도 변경됨\n",
    "#copy\n",
    "c = a.copy()\n",
    "c[2][0] = 999\n",
    "print(a, c) #슬라이싱과 동일한 문제 생김.\n",
    "\n",
    "# 파이썬튜터에서 설명\n",
    "# 확인결과 1차적으로는 다른 주소를 갖고 있지만\n",
    "# 내부 리스트에서 같은 곳을 참조하고 있다는 것 확인.\n",
    "# 해결방법 --> 깊은복사\n",
    "\n",
    "import copy # copy 모듈-deepcopy 사용\n",
    "\n",
    "original_list = [1, 2, [1, 2]]\n",
    "deep_copied_list = copy.deepcopy(original_list)\n",
    "deep_copied_list[2][0] = 999\n",
    "\n",
    "print(original_list, deep_copied_list) #서로 영향을 주지 않았음을 확인\n",
    "#파이썬튜터로 확인\n",
    "# 내부 리스트(깊은 레벨)까지도 복사가 되어 다른 주소를 참조하고 있음을 알 수 있음."
   ]
  },
  {
   "cell_type": "markdown",
   "metadata": {},
   "source": [
    "#### 해싱\n",
    "\n",
    "해싱 : 해시 테이블을 이용한 탐색.\n",
    "  어떤 항목의 키만 가지고 바로 항목이 들어있는 배열의 인덱스를 결정하는 방법\n",
    "해시 테이블 : 키에 대한 연산에 의해 직접 접근이 가능한 구조\n",
    "해시 함수 : 키를 입력으로 받아 해시주소를 생성하고 해시주소를 해시테이블의 인덱스로 사용\n",
    "    데이터의 효율적인 관리를 목적으로 임의의 길이의 데이터를 고정된 길이의 데이터로 매핑하는 함수. 매핑 전 원 데이터의 값을 key, 매핑 후 데이터값을 해시값, 매핑과정을 해싱 이라고 함.\n",
    "\n",
    "장점: 적은 리소스로 많은 데이터를 효율적으로 관리가능\n",
    "인덱스에 해시값을 사용해 모든 데이터를 살피지 않아도 검색,삽입,삭제를 빠르게 수행가능.\n",
    "보안. 데이터축약. \n",
    "\n",
    "일종의 지문같은 개념. 두 개 이상의 키가 동일한 해시 테이블의 공간으로 사상될 경우 '충돌'이라함\n",
    "\n"
   ]
  }
 ],
 "metadata": {
  "kernelspec": {
   "display_name": "Python 3",
   "language": "python",
   "name": "python3"
  },
  "language_info": {
   "codemirror_mode": {
    "name": "ipython",
    "version": 3
   },
   "file_extension": ".py",
   "mimetype": "text/x-python",
   "name": "python",
   "nbconvert_exporter": "python",
   "pygments_lexer": "ipython3",
   "version": "3.9.13"
  },
  "orig_nbformat": 4
 },
 "nbformat": 4,
 "nbformat_minor": 2
}
