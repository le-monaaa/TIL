{
 "cells": [
  {
   "cell_type": "markdown",
   "metadata": {},
   "source": [
    "### 파이썬 기초\n",
    "1. 저장\n",
    "2. 조건\n",
    "3. 반복"
   ]
  },
  {
   "cell_type": "markdown",
   "metadata": {},
   "source": [
    "1. 저장\n",
    "변수 = 어떤 값을 저장할 수 있는 저장 공간.\n",
    " 1. 숫자\n",
    "    : 현실세계에 존재하는 모든 숫자, 기본 연산 가능.\n",
    " 2. 문자\n",
    "    : 현실세계에 존재하는 모든 문자. \" \" 사용.\n",
    " 3. 참/거짓(True, False)\n",
    "    : 조건문, 반복문에 사용. 1/0\n",
    "\n",
    "<span style=\"color: red\">변수명 설정 시 파이썬에서 이미 사용하고 있는 키워드, 함수명은 사용 X</span>"
   ]
  },
  {
   "cell_type": "markdown",
   "metadata": {},
   "source": [
    "값을 여러 개 저장하려면 --> list 사용\n",
    "\n",
    "List : 여러 개의 연속된 값을 저장할 수 있는 저장 공간\n"
   ]
  },
  {
   "cell_type": "code",
   "execution_count": 4,
   "metadata": {},
   "outputs": [
    {
     "name": "stdout",
     "output_type": "stream",
     "text": [
      "['오늘은', '7월14일', '금요일']\n",
      "오늘은\n"
     ]
    }
   ],
   "source": [
    "alist = [\"오늘은\", \"7월14일\", \"금요일\"]\n",
    "print(alist)\n",
    "print(alist[0])"
   ]
  },
  {
   "cell_type": "markdown",
   "metadata": {},
   "source": [
    "딕셔너리: 이름표를 단 여러개의 값을 저장할 수 있는 저장공간\n",
    "변수명 = {key : value, ...}"
   ]
  },
  {
   "cell_type": "code",
   "execution_count": 6,
   "metadata": {},
   "outputs": [
    {
     "name": "stdout",
     "output_type": "stream",
     "text": [
      "{'name': 'yubin', 'height': 160.1}\n",
      "yubin 160.1\n"
     ]
    }
   ],
   "source": [
    "adic = {\"name\" : \"yubin\", \"height\" : 160.1}\n",
    "print(adic)\n",
    "print(adic[\"name\"], adic[\"height\"])"
   ]
  },
  {
   "cell_type": "markdown",
   "metadata": {},
   "source": [
    "boolean : 참, 거짓에 따라 True, False 값을 반환\n"
   ]
  },
  {
   "cell_type": "code",
   "execution_count": 7,
   "metadata": {},
   "outputs": [
    {
     "name": "stdout",
     "output_type": "stream",
     "text": [
      "False\n"
     ]
    }
   ],
   "source": [
    "print(3 > 4)"
   ]
  },
  {
   "cell_type": "markdown",
   "metadata": {},
   "source": [
    "#### 조건문\n",
    "\n",
    "만약 A 라면 B 를 실행해줘.\n",
    "\n",
    "if A:\n",
    "\n",
    "____B    (\\_\\_\\_\\_는 spacebar 4번 or tap)\n",
    "\n",
    "else:\n",
    "\n",
    "____C\n",
    "\n",
    "<span style=\"color: red\">(파이썬은 들여쓰기 필수 !!!)</span>"
   ]
  },
  {
   "cell_type": "code",
   "execution_count": 8,
   "metadata": {},
   "outputs": [
    {
     "name": "stdout",
     "output_type": "stream",
     "text": [
      "50이하\n"
     ]
    }
   ],
   "source": [
    "dust = 50\n",
    "if dust > 50:\n",
    "    print(\"50초과\")\n",
    "else:\n",
    "    print(\"50이하\")"
   ]
  },
  {
   "cell_type": "markdown",
   "metadata": {},
   "source": [
    "만약 A 라면\n",
    "\n",
    "B 해줘\n",
    "\n",
    "그게 아니라 C 이면\n",
    "\n",
    "D 해줘\n",
    "\n",
    "if A:\n",
    "\n",
    "____B    (____는 spacebar 4번 or tap)\n",
    "\n",
    "elif C:\n",
    "____D\n",
    "\n",
    "```\n",
    "만약 dust가 150보다 크다면 \"매우나쁨 출력\"\n",
    "\n",
    "그게 아니라 dust가 150이하 80초과라면 \"나쁨\" 출력\n",
    "\n",
    "모두 해당되지 않을 때 \"좋음\" 출력\n",
    "```"
   ]
  },
  {
   "cell_type": "code",
   "execution_count": 9,
   "metadata": {},
   "outputs": [
    {
     "name": "stdout",
     "output_type": "stream",
     "text": [
      "나쁨\n"
     ]
    }
   ],
   "source": [
    "dust = 90\n",
    "if dust > 150:\n",
    "    print(\"매우 나쁨\")\n",
    "elif dust<=150 and dust>80: # 80<dust<=150\n",
    "    print(\"나쁨\")\n",
    "else:\n",
    "    print(\"좋음\")"
   ]
  },
  {
   "cell_type": "markdown",
   "metadata": {},
   "source": [
    "반복 while / for\n",
    "\n",
    "while\n",
    "\n",
    "만약 A 이라면\n",
    "\n",
    "ㄱㅖ속 B 해줘\n",
    "\n",
    "while A:\n",
    "____B\n",
    "```\n",
    "n = 0\n",
    "만약 n이 3보다 작다면\n",
    "계속 n을 출력하고\n",
    "n에 1을 더해줘\n",
    "```\n"
   ]
  },
  {
   "cell_type": "code",
   "execution_count": 10,
   "metadata": {},
   "outputs": [
    {
     "name": "stdout",
     "output_type": "stream",
     "text": [
      "0\n",
      "1\n",
      "2\n"
     ]
    }
   ],
   "source": [
    "n = 0\n",
    "while n < 3:\n",
    "    print(n)\n",
    "    n += 1"
   ]
  },
  {
   "cell_type": "markdown",
   "metadata": {},
   "source": [
    "for\n",
    "\n",
    "A 에 있는 B 를 이용해서\n",
    "\n",
    "C 해줘\n",
    "\n",
    "for B in A:\n",
    "\n",
    "C\n",
    "\n",
    "여러 개의 값을 저장하는 변수에서 반복하여 값을 꺼내 사용\n"
   ]
  },
  {
   "cell_type": "code",
   "execution_count": 11,
   "metadata": {},
   "outputs": [
    {
     "name": "stdout",
     "output_type": "stream",
     "text": [
      "apple\n",
      "banana\n",
      "kiwi\n"
     ]
    }
   ],
   "source": [
    "fruits = [\"apple\", \"banana\", \"kiwi\"]\n",
    "\n",
    "for value in fruits:\n",
    "    print(value)"
   ]
  },
  {
   "cell_type": "markdown",
   "metadata": {},
   "source": [
    "whlie vs for\n",
    "\n",
    "while >> 조건이 true인 동안 반복적으로 실행되므로 종료 조건이 반드시 필요\n",
    "\n",
    "for >> 정해진 범위를 반복하기 때문에 종료조건이 따로 필요하지 않음."
   ]
  },
  {
   "cell_type": "markdown",
   "metadata": {},
   "source": [
    "함수\n",
    "\n",
    "input -> function -> output\n",
    "\n",
    "```\n",
    "print(\"Hello\")\n",
    "```\n",
    "\n",
    "모듈 사용\n",
    "\n",
    "1. 함수가 포함된 파일을 불러와서 사용할 수 있다(import)\n",
    "\n",
    "random 모듈\n"
   ]
  },
  {
   "cell_type": "code",
   "execution_count": 14,
   "metadata": {},
   "outputs": [
    {
     "name": "stdout",
     "output_type": "stream",
     "text": [
      "banana\n",
      "[1, 8, 6]\n"
     ]
    }
   ],
   "source": [
    "import random\n",
    "\n",
    "fruits = [\"apple\", \"banana\", \"kiwi\"]\n",
    "print(random.choice(fruits))\n",
    "\n",
    "numbers = [1, 2, 3, 4, 5, 6, 7, 8, 9, 10]\n",
    "pick = random.sample(numbers, 3)\n",
    "\n",
    "print(pick)"
   ]
  },
  {
   "cell_type": "code",
   "execution_count": 16,
   "metadata": {},
   "outputs": [
    {
     "name": "stdout",
     "output_type": "stream",
     "text": [
      "===2단===\n",
      "2*1 = 2\n",
      "2*2 = 4\n",
      "2*3 = 6\n",
      "2*4 = 8\n",
      "2*5 = 10\n",
      "2*6 = 12\n",
      "2*7 = 14\n",
      "2*8 = 16\n",
      "2*9 = 18\n",
      "===3단===\n",
      "3*1 = 3\n",
      "3*2 = 6\n",
      "3*3 = 9\n",
      "3*4 = 12\n",
      "3*5 = 15\n",
      "3*6 = 18\n",
      "3*7 = 21\n",
      "3*8 = 24\n",
      "3*9 = 27\n",
      "===4단===\n",
      "4*1 = 4\n",
      "4*2 = 8\n",
      "4*3 = 12\n",
      "4*4 = 16\n",
      "4*5 = 20\n",
      "4*6 = 24\n",
      "4*7 = 28\n",
      "4*8 = 32\n",
      "4*9 = 36\n",
      "===5단===\n",
      "5*1 = 5\n",
      "5*2 = 10\n",
      "5*3 = 15\n",
      "5*4 = 20\n",
      "5*5 = 25\n",
      "5*6 = 30\n",
      "5*7 = 35\n",
      "5*8 = 40\n",
      "5*9 = 45\n",
      "===6단===\n",
      "6*1 = 6\n",
      "6*2 = 12\n",
      "6*3 = 18\n",
      "6*4 = 24\n",
      "6*5 = 30\n",
      "6*6 = 36\n",
      "6*7 = 42\n",
      "6*8 = 48\n",
      "6*9 = 54\n",
      "===7단===\n",
      "7*1 = 7\n",
      "7*2 = 14\n",
      "7*3 = 21\n",
      "7*4 = 28\n",
      "7*5 = 35\n",
      "7*6 = 42\n",
      "7*7 = 49\n",
      "7*8 = 56\n",
      "7*9 = 63\n",
      "===8단===\n",
      "8*1 = 8\n",
      "8*2 = 16\n",
      "8*3 = 24\n",
      "8*4 = 32\n",
      "8*5 = 40\n",
      "8*6 = 48\n",
      "8*7 = 56\n",
      "8*8 = 64\n",
      "8*9 = 72\n",
      "===9단===\n",
      "9*1 = 9\n",
      "9*2 = 18\n",
      "9*3 = 27\n",
      "9*4 = 36\n",
      "9*5 = 45\n",
      "9*6 = 54\n",
      "9*7 = 63\n",
      "9*8 = 72\n",
      "9*9 = 81\n"
     ]
    }
   ],
   "source": [
    "# 구구단(2~9)\n",
    "\n",
    "for i in range(2, 10):\n",
    "    print(f\"==={i}단===\")\n",
    "    for j in range(1, 10):\n",
    "        print(f\"{i}*{j} = {i * j}\")\n",
    "        "
   ]
  },
  {
   "cell_type": "code",
   "execution_count": null,
   "metadata": {},
   "outputs": [],
   "source": [
    "# 로또 자동추첨기\n",
    "# 1~45 중 6개를 뽑아서 출력\n",
    "\n",
    "import random\n",
    "\n",
    "a = list(1, 46)\n",
    "print(random.sample(,6))"
   ]
  }
 ],
 "metadata": {
  "kernelspec": {
   "display_name": "Python 3",
   "language": "python",
   "name": "python3"
  },
  "language_info": {
   "codemirror_mode": {
    "name": "ipython",
    "version": 3
   },
   "file_extension": ".py",
   "mimetype": "text/x-python",
   "name": "python",
   "nbconvert_exporter": "python",
   "pygments_lexer": "ipython3",
   "version": "3.9.13"
  },
  "orig_nbformat": 4
 },
 "nbformat": 4,
 "nbformat_minor": 2
}
