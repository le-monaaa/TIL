{
 "cells": [
  {
   "cell_type": "markdown",
   "metadata": {},
   "source": [
    "### 내장 함수\n"
   ]
  },
  {
   "cell_type": "code",
   "execution_count": null,
   "metadata": {},
   "outputs": [],
   "source": [
    "# ads(x) : 어떤 숫자를 입력받았을 때 그 숫자의 절댓값을 리턴하는 함수\n",
    "print(abs(-3)) # 3\n",
    "\n",
    "# all(x) : iterable x를 입력값으로 받으며 이 x의 요소가 모두 참이면 True, x가 하나라도 거짓이면 False\n",
    "print(all([1, 2, 3])) # True\n",
    "print(all([1, 2, 3, 0])) # False\n",
    "print(all([])) # True . 입력 변수가 빈 값일 경우 True\n",
    "\n",
    "# any(x) : iterable x를 입력값으로, x의 요소 중 하나라도 참이면 Ture, x가 모두 거짓일 때 False\n",
    "print(any([1, 2, 3, 4, 0])) # True\n",
    "print(any([0, \"\"])) # False\n",
    "print(any([])) # False. 입력 변수가 빈 값일 경우 False\n",
    "\n",
    "# chr(i) : 유니코드 숫자 값을 입력받아 그 코드에 해당하는 문자를 리턴.\n",
    "print(chr(97)) # A\n",
    "print(chr(44032)) # 가\n",
    "\n",
    "# dir() : 객체가 지닌 변수나 함수를 보여주는 함수. \n",
    "# dir([1, 2, 3]) \n",
    "# dir({\"1\": \"a\"}) #함수들 나옴 근데 둘의 차이를 모르겠음\n",
    "\n",
    "#divmod(a, b) : 2개의 숫자 a, b를 입력받아 a를 b로 나눈 몫과 나머지를 튜플로 리턴\n",
    "print(divmod(7, 3)) #(2, 1)\n",
    "\n",
    "#enumerate(iterable) : sequence을 입력받아 인덱스 값을 표현하는 enumerate 객체 리턴\n",
    "#보통 for문과 함께 씀\n",
    "for i, name in enumerate([\"candy\", \"sugar\", \"rush\"]):\n",
    "    print(i, name)\n",
    "#반복되는 구간에서 객체가 현재 어느 위치에 있는지 알려주는 인덱스 값이 필요할 때 유용\n",
    "\n",
    "# eval(expressin) : 문자열로 구성된 표현식을 입력으로 받아 해당 문자열을 실행한 결괏값 리턴\n",
    "print(eval(\"1 + 2\")) # 3\n",
    "print(eval(\" 'hi' + 'bye'\")) #hibye\n",
    "print(eval(\"divmod(4,3)\")) #(1, 1)\n",
    "\n",
    "#filter(func, iterable) : iterable의 요소 순서대로 func를 호출했을 때 리턴값이 참인 것만 걸러서 리턴\n",
    "def positive(l):\n",
    "    result = []\n",
    "    for i in l:\n",
    "        if i > 0:\n",
    "            result.append(i)\n",
    "    return result\n",
    "\n",
    "print(positive([1, -3, 2, 0, -5, 6])) # [1, 2, 6]\n",
    "\n",
    "#filter 사용시\n",
    "\n",
    "def positive2(x):\n",
    "    return x > 0\n",
    "\n",
    "print(list(filter(positive2, [1, -3, 2, 0, -5, 6])))  # [1, 2, 6]\n",
    "\n",
    "# lambda 사용시\n",
    "print(list(filter(lambda x: x>0, [1, -3, 2, 0, -5, 6]))) # [1, 2, 6]\n",
    "\n",
    "#hex(x) : 정수를 입력받아 16진수 문자열로 변환하여 리턴하는 함수\n",
    "print(hex(324)) # 0xea\n",
    "print(hex(3)) # 0x3\n",
    "\n",
    "#id(object) : 객체를 입력받아 객체의 고유 주솟값(reference)을 리턴\n",
    "a = 3\n",
    "print(id(3))\n",
    "print(id(a))\n",
    "b = 3\n",
    "print(id(b)) #셋 모두 같은 주솟값이 리턴\n",
    "\n",
    "#input([prompt])\n",
    "#[prompt] 문자열 입력시 프롬프트 출력\n",
    "\n",
    "#int(x) : 문자열 형태의 숫자나 소수점이 있는 숫자를 정수로 리턴하는 함수\n",
    "# 정수 입력시 그대로 리턴.\n",
    "print(int(3.4))\n",
    "print(int(\"3\"))\n",
    "\n",
    "#int(x, radix) : radix 진수로 표현된 문자열 x를 10진수로 변환해 리턴\n",
    "print(\"11\", 2) # 2진수로 표현된 \"11\"의 10진수 값\n",
    "print(\"1A\", 16) # 16진수로 표현된 \"1A\"의 10진수 값\n",
    "\n",
    "# isinstace(object, class) : 객체, 클래스를 받아 입력으로 받은 객체가 그 클래스의 인스턴스인지를 판단\n",
    "class Person: pass\n",
    "\n",
    "a = Person()\n",
    "isinstance(a, Person) # True\n",
    "\n",
    "#len(s) : 입력값 s의 길이(요소의 전체 개수)를 리턴하는 함수\n",
    "len(\"python\") #6\n",
    "len([1, 2, 3, 4]) #4\n",
    "len((\"1\", \"a\")) #2\n",
    "\n",
    "#list(iterable) : 반복 가능한 데이터를 입력받아 리스트로 만들어 리턴\n",
    "print(list(\"python\"))\n",
    "print(list((1, 2, 3))) # [1, 2, 3]\n",
    "#list 함수에 리스트를 입력하면 똑같은 리스트를 복사하여 리턴함.\n",
    "a = [1, 2, 3]\n",
    "b = list(a)\n",
    "print(b) # [1, 2, 3]\n"
   ]
  },
  {
   "cell_type": "code",
   "execution_count": null,
   "metadata": {},
   "outputs": [],
   "source": [
    "#map(f, iterable) : 함수(f)와 반복 가능한 데이터를 입력으로 받아 데이터의 각 요소에 함수 f를 적용한 결과를 리턴\n",
    "def two_times(nums):\n",
    "    result = []\n",
    "    for num in nums:\n",
    "        result.append(num*2)\n",
    "    return result\n",
    "\n",
    "result = two_times([1, 2, 3 4])\n",
    "print(result)\n",
    "\n",
    "#map 이용시\n",
    "\n",
    "def two_times(x):\n",
    "    return x*2\n",
    "\n",
    "print(list(map(two_times, [1, 2, 3, 4])))\n",
    "# map 함수는 map 객체를 리턴함. \n",
    "\n",
    "#lambda 이용시\n",
    "print(list(map(lambda a : a*2 [1, 2, 3, 4])))"
   ]
  },
  {
   "cell_type": "code",
   "execution_count": null,
   "metadata": {},
   "outputs": [],
   "source": [
    "# max(iterable)\n",
    "# 반복 가능한 데이터를 입력받아 그 최댓값을 리턴\n",
    "max([1, 2, 3]) #3\n",
    "max(\"python\") #y\n",
    "\n",
    "#min(iterable)\n",
    "# 반복 가능한 데이터를 입력받아 그 최솟값을 리턴\n",
    "min([1, 2, 3]) # 1\n",
    "min(\"python\") # h"
   ]
  },
  {
   "cell_type": "code",
   "execution_count": null,
   "metadata": {},
   "outputs": [],
   "source": [
    "#oct\n",
    "# 정수를 8진수 문자열로 바꾸어 리턴하는 함수\n",
    "oct(34) #0o42\n",
    "oct(12345) # 0o30071"
   ]
  },
  {
   "cell_type": "code",
   "execution_count": null,
   "metadata": {},
   "outputs": [],
   "source": [
    "#open(filname, [mode])\n",
    "# 파일 이름과 읽기 방법을 입력받아 파일 객체를 리턴하는 함수.\n",
    "# 읽기 방법 생략시 기본값은 r(읽기 모드)로 파일 객체를 만들어 리턴\n",
    "# W: 쓰기 모드 r: 읽기 모드 a: 추가 모드 b: 바이너리 모드\n",
    "# b는 w, r, a와 함께 사용\n",
    "\n",
    "f = open(\"binary_file\", \"rb\")"
   ]
  },
  {
   "cell_type": "code",
   "execution_count": null,
   "metadata": {},
   "outputs": [],
   "source": [
    "#ord(c)\n",
    "# 문자의 유니코드 숫자 값을 리턴(chr과 반대)\n",
    "\n",
    "print(ord(\"a\"))\n",
    "print(ord(\"가\"))"
   ]
  },
  {
   "cell_type": "code",
   "execution_count": null,
   "metadata": {},
   "outputs": [],
   "source": [
    "# pow(x, y)\n",
    "# x를 y제곱한 결괏값 리턴\n",
    "print(pow(2, 4)) # 16\n",
    "print(pow(3, 3)) # 27"
   ]
  },
  {
   "cell_type": "code",
   "execution_count": null,
   "metadata": {},
   "outputs": [],
   "source": [
    "#range([start,] stop, [,step])\n",
    "# for문과 함께 자주 사용. 입력받은 숫자에 해당하는 범위 값을 반복 가능한 객체로 만들어 리턴\n",
    "\n",
    "#인수가 하나일 경우\n",
    "list(range(5)) # [0, 1, 2, 3, 4]\n",
    "\n",
    "#인수가 2개일 경우\n",
    "list(range(5, 10)) #[5, 6, 7, 8, 9]\n",
    "\n",
    "#인수가 3개일 경우\n",
    "list(range(1, 10, 2)) #[1, 3, 5, 7, 9]\n",
    "list(range(0, -10, -1)) #[0, -1, -2, -3, -4, -5, -6, -7, -8, -9]"
   ]
  },
  {
   "cell_type": "code",
   "execution_count": null,
   "metadata": {},
   "outputs": [],
   "source": [
    "# round(number [,ndigits])\n",
    "# 숫자를 입력받아 반올림해 리턴하는 함수\n",
    "\n",
    "print(round(4.6)) #5\n",
    "print(round(4.2)) #4\n",
    "\n",
    "round(5.678, 2) #실수 5.678을 소수점 2자리까지 반올림하여 표시 5.68"
   ]
  },
  {
   "cell_type": "code",
   "execution_count": null,
   "metadata": {},
   "outputs": [],
   "source": [
    "# sorted(iterable)\n",
    "# 입력 데이터를 정렬한 후 그 결과를 리스트로 리턴\n",
    "print(sorted([3, 1, 2])) # [1, 2, 3]\n",
    "print(sorted([\"zero\"])) #['e', 'o', 'r', 'z']"
   ]
  },
  {
   "cell_type": "code",
   "execution_count": null,
   "metadata": {},
   "outputs": [],
   "source": [
    "# str(object)\n",
    "# 문자열 형태로 객체를 변환하여 리턴\n",
    "str(3) # \"3\"\n",
    "str(\"hi\") # \"hi\""
   ]
  },
  {
   "cell_type": "code",
   "execution_count": null,
   "metadata": {},
   "outputs": [],
   "source": [
    "#sum(iterable)\n",
    "# 입력 데이터의 합을 리턴\n",
    "sum([1, 2, 3]) #6\n",
    "sum([4, 5, 6]) #15"
   ]
  },
  {
   "cell_type": "code",
   "execution_count": null,
   "metadata": {},
   "outputs": [],
   "source": [
    "# tuple(iterable)\n",
    "# 반복 가능한 데이터를 튜플로 바꾸어 리턴하는 함수\n",
    "# 입력이 튜플인 경우 그대로 리턴\n",
    "tuple(\"abc\") #(\"a\", \"b\", \"c\")\n",
    "tuple([1, 2, 3]) #(1, 2, 3)"
   ]
  },
  {
   "cell_type": "code",
   "execution_count": null,
   "metadata": {},
   "outputs": [],
   "source": [
    "# type(object)\n",
    "# 입력값의 자료형이 무엇인지 알려주는 함수\n",
    "\n",
    "type(\"abc\")\n",
    "# class 'str'>\n",
    "type([ ])\n",
    "# class 'list'>\n",
    "type(open(\"test\", 'w'))\n",
    "# class '_io.TextIOWrapper'>"
   ]
  },
  {
   "cell_type": "code",
   "execution_count": 13,
   "metadata": {},
   "outputs": [
    {
     "data": {
      "text/plain": [
       "[(1, 4, 7), (2, 5, 8), (3, 6, 9)]"
      ]
     },
     "execution_count": 13,
     "metadata": {},
     "output_type": "execute_result"
    }
   ],
   "source": [
    "#zip(*iterable)\n",
    "# *iterable : 반복 가능한 데이터를 여러개 입력할 수 있다.는 의미\n",
    "# 동일한 개수로 이루어진 데이터들을 묶어서 리턴하는 함수\n",
    "\n",
    "list(zip([1,2,3], [4,5,6])) #[(1,4),(2,5),(3,6)]\n",
    "list(zip([1,2,3], [4,5,6], [7,8,9])) #[(1,4,7),(2,5,8),(3,6,9)]\n"
   ]
  }
 ],
 "metadata": {
  "kernelspec": {
   "display_name": "Python 3",
   "language": "python",
   "name": "python3"
  },
  "language_info": {
   "codemirror_mode": {
    "name": "ipython",
    "version": 3
   },
   "file_extension": ".py",
   "mimetype": "text/x-python",
   "name": "python",
   "nbconvert_exporter": "python",
   "pygments_lexer": "ipython3",
   "version": "3.9.13"
  },
  "orig_nbformat": 4
 },
 "nbformat": 4,
 "nbformat_minor": 2
}
