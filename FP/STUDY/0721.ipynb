{
 "cells": [
  {
   "cell_type": "markdown",
   "metadata": {},
   "source": [
    "### 0721 관통프로젝트\n",
    "\n",
    "1. 금융 데이터를 활용한 금융 상품 비교 애플리케이션\n",
    "2. 영화 추천 서비스\n",
    "\n",
    "PJT 4회차까지는 자유로이 변경 가능. ~~~ 10까지있음(1학기 마지막)\n",
    "5회차부터는 변경 불가\n",
    "\n",
    "- 목표\n",
    "- API 이해하기\n",
    "- 날씨 데이터 수집\n",
    "\n",
    "#### 실습목표\n",
    "- 파이썬으로 인터넷에 있는 날씨 정보를 가져와 원하는 정보만 출력\n",
    "\n",
    "**서버**\n",
    "\n",
    "요청이 있을 시 처리해주고 원하는 값을 리턴\n",
    "\n",
    "**클라이언트**\n",
    "\n",
    "필요한 것을 요청하는 역할\n",
    "\n",
    "requests 파이썬 라이브러리 활용, 브라우저(주소) 입력\n",
    "\n",
    "**requests 활용**\n",
    "\n",
    "$ pip install requests\n",
    "설치~~\n",
    "\n",
    "#### API\n",
    "\n",
    "클라이언트가 원하는 기능을 수행하기 위해 서버 측에 만들어 둔 프로그램 ex. 데이터 저장, 조회, 수정, 삭제 목적\n",
    "\n",
    "서버 측에 특정 주소로 요청이 요면 정해진 기능을 수행하는 API를 미리 만들어 둠\n",
    "\n",
    "-> 클라이언트는 서버가 미리 만들어 둔 주소로 요청을 보냄\n",
    "\n",
    " 어떤 정보를 수집하려 할 때, 해당 정보를 제공하는 서버 찾기-> 그 서버가 제공하는 API 찾기\n",
    "\n",
    "\n",
    "##### Open API\n",
    "\n",
    "무료로 개방 된 API\n",
    "\n",
    "악성 사용자를 방지하기 위해 API KEY를 이용해 사용자를 식별함\n",
    "\n",
    "서버 요청 시 API KEY를 보내 정상 사용자 인증. --> 요청, 인증정보 보냄--> 데이터 반환\n",
    "\n",
    "일부 open API는 사용량이 제한되어 있음(공식 문서의 일일 및 월간 사용량 제한을 반드시 확인-->요금청구가능)\n"
   ]
  },
  {
   "cell_type": "code",
   "execution_count": null,
   "metadata": {},
   "outputs": [],
   "source": [
    "import requests\n",
    "url = \"https://fakestoreapi.com/carts\"\n",
    "response = requests.get(url) #해당 서버(url)에 데이터 요청하는 함수\n",
    "\n",
    "print(response)  \n",
    "\n",
    "print(response.json()) #내부 데이터를 JSON(딕셔너리같은) 형태로 반환해주는 함수."
   ]
  },
  {
   "cell_type": "markdown",
   "metadata": {},
   "source": [
    "#### JSON\n",
    "\n",
    "자바스크립트 객체 표기법. 데이터 저장, 전송 시 많이 사용되는 경량의 텍스트 기반 데이터 형식\n",
    "\n",
    "통신 방법이나 프로그래밍 문법이 아니라 단순히 데이터를 표현하는 표현 방법 중 하나\n",
    "\n",
    "**특징**\n",
    "데이터 중괄호 ({})로 둘러싸인 키-값 쌍의 집합으로 표현됨\n",
    "\n",
    "키 = 문자열/ 값 =다양한 데이터 유형\n",
    "\n",
    "값은 쉼표(,)로 구분됨\n",
    "\n",
    "파이썬은 JSON을 활용하는 기능을 가지고 있다\n",
    "\n",
    "**파싱(parsing)**: 데이터를 의미 있는 구조로 분석하고 해석하는 과정\n",
    "**json.loads()** : JSON 형식의 문자열을 파싱하여 python dictionary 로 변환"
   ]
  },
  {
   "cell_type": "code",
   "execution_count": null,
   "metadata": {},
   "outputs": [],
   "source": [
    "import json #내장모듈\n",
    "\n",
    "#json 데이터\n",
    "json_data = '''\n",
    "\n",
    "{\n",
    "    \"name\" : \"김싸피\",\n",
    "    \"age\" : 28,\n",
    "    \"city\" : \"서울 캠퍼스\"\n",
    "    \"hobbies\" : [\n",
    "    \"공부하기\",\n",
    "    \"복습하기\"\n",
    "    ]\n",
    "\n",
    "}\n",
    "'''\n",
    "\n",
    "data = json.loads(json_data)\n",
    "print(data)\n",
    "\n",
    "#JSON 데이터에서 원하는 데이터만 가져오기\n",
    "name = data.get(\"name\")\n",
    "\n",
    "print(name)"
   ]
  },
  {
   "cell_type": "markdown",
   "metadata": {},
   "source": [
    "jupyter notebook 공부하기"
   ]
  }
 ],
 "metadata": {
  "language_info": {
   "name": "python"
  },
  "orig_nbformat": 4
 },
 "nbformat": 4,
 "nbformat_minor": 2
}
