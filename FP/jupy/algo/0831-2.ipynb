{
 "cells": [
  {
   "cell_type": "markdown",
   "metadata": {},
   "source": [
    "반복과 재귀\n"
   ]
  },
  {
   "cell_type": "code",
   "execution_count": null,
   "metadata": {},
   "outputs": [],
   "source": [
    "# 선택 정렬 반복문으로 구현\n",
    "\n",
    "# def selection_sort(arr):\n",
    "#     for i in range(len(arr)-1):\n",
    "#         min_idx = i\n",
    "#         for j in range(i+1, len(arr)):\n",
    "#             if arr[min_idx]> arr[j]:\n",
    "#                 min_idx = j\n",
    "#             arr[min_idx], arr[i] = arr[i], arr[min_idx]\n",
    "\n",
    "# 재귀로 구현\n",
    "\n",
    "def selection_sort(idx, arr):\n",
    "    if idx == len(arr):\n",
    "        return\n",
    "    min_idx = idx\n",
    "    for i in range(idx+1, len(arr)):\n",
    "        if arr[min_idx] > arr[i]:\n",
    "            min_idx = i\n",
    "        arr[min_idx], arr[idx] = arr[idx], arr[min_idx]\n",
    "    selection_sort(idx+1, arr)\n",
    "\n",
    "arr = [3, 4, 5, 2, 1]\n",
    "selection_sort(0, arr)\n",
    "print(arr)"
   ]
  },
  {
   "cell_type": "markdown",
   "metadata": {},
   "source": [
    "# 완전 검색 기법\n"
   ]
  },
  {
   "cell_type": "markdown",
   "metadata": {},
   "source": [
    "# 순열\n"
   ]
  },
  {
   "cell_type": "code",
   "execution_count": null,
   "metadata": {},
   "outputs": [],
   "source": [
    "# baby-gin 검사"
   ]
  },
  {
   "cell_type": "markdown",
   "metadata": {},
   "source": [
    "# 부분집합\n",
    "\n",
    "https://velog.io/@nana-moon/%EC%95%8C%EA%B3%A0%EB%A6%AC%EC%A6%98-%EB%B0%94%EC%9D%B4%EB%84%88%EB%A6%AC-%EC%B9%B4%EC%9A%B4%ED%8C%85Binary-Counting-%EB%B6%80%EB%B6%84-%EC%A7%91%ED%95%A9\n",
    "\n"
   ]
  },
  {
   "cell_type": "code",
   "execution_count": null,
   "metadata": {},
   "outputs": [],
   "source": [
    "# make subset by binary counting\n",
    "# subset\n",
    "\n",
    "arr = [3, 6, 7, 1, 5, 4]\n",
    "\n",
    "for i in range(0, (1<<len(arr))): # 부분집합의 개수 (??)\n",
    "    for j in range(len(arr)): # 원소 수만큼 비트 비교\n",
    "        if i & (1 << j): # i의 j번째 비트가 1이면 원소 출력\n",
    "            print(arr[j], end =\" \")\n",
    "    print()\n",
    "\n",
    "# 부분집합의 합\n",
    "\n",
    "arr = [3, 6, 7, 1, 5, 4]\n",
    "\n",
    "for i in range(0, (1<<len(arr))): # 부분집합의 개수 (??)\n",
    "    sum_lst = []\n",
    "    for j in range(len(arr)): # 원소 수만큼 비트 비교\n",
    "        if i & (1 << j): # i의 j번째 비트가 1이면 원소 출력\n",
    "            sum_lst.append(arr[j])\n",
    "    if sum(sum_lst) == 14:\n",
    "        print(*sum_lst)\n"
   ]
  },
  {
   "cell_type": "markdown",
   "metadata": {},
   "source": [
    "# 조합\n",
    "\n",
    "https://www.youtube.com/watch?v=HYKpunR1Nto\n",
    "\n",
    "\n",
    "https://yangnyang.tistory.com/14\n",
    "\n",
    "https://velog.io/@sloools/Python-%EC%88%9C%EC%97%B4Permutation-%EC%A1%B0%ED%95%A9Combination"
   ]
  },
  {
   "cell_type": "code",
   "execution_count": null,
   "metadata": {},
   "outputs": [],
   "source": [
    "\n"
   ]
  }
 ],
 "metadata": {
  "language_info": {
   "name": "python"
  },
  "orig_nbformat": 4
 },
 "nbformat": 4,
 "nbformat_minor": 2
}
