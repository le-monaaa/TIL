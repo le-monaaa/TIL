{
 "cells": [
  {
   "cell_type": "markdown",
   "metadata": {},
   "source": [
    "# 백트래킹\n",
    "\n",
    "여러 옵션 중에 하나를 선택, 선택이 이루어지면서 선택지들의 집합이 생성되고\n",
    "이런 생성을 반복하면서 최종 상태에 도달.\n",
    "\n",
    "**백트래킹과 깊이 우선 탐색과의 차이**\n",
    "- 백트래킹은 가지치기를 함. 깊이우선탐색은 모든 경로를 추적하지만 백트래킹은 불필요한 경로를 조기에 차단함. 백트래킹을 적용하면 일반적으로 경우의 수가 줄어들지만 최악의 경우에는 지수함수시간을 요하므로 처리 불가능.\n",
    "\n"
   ]
  },
  {
   "cell_type": "code",
   "execution_count": 4,
   "metadata": {},
   "outputs": [
    {
     "name": "stdout",
     "output_type": "stream",
     "text": [
      "3 3 3\n"
     ]
    }
   ],
   "source": [
    "# {1, 2, 3} 집합에서 3개의 숫자를 선택하는 기본 예제\n",
    "\n",
    "arr = {i for i in range(1,4)}\n",
    "path = [0] * 3\n",
    "\n",
    "def backTracking(cnt):\n",
    "    # 재귀 종료 조건\n",
    "    # 숫자 3개를 골랐을 때 종료\n",
    "    if cnt == 3:\n",
    "        print(*path)\n",
    "        return \n",
    "    \n",
    "    for num in arr:\n",
    "    # 들어가기 전 로직 - 경로 저장\n",
    "        path[cnt] = num\n",
    "\n",
    "    # 다음 재귀함수 호출\n",
    "        backTracking(cnt+1) # 하나 골랐으니 다음 함수 호출은 ++\n",
    "    \n",
    "    # 돌아와서 할 로직\n",
    "\n",
    "backTracking(0)\n"
   ]
  },
  {
   "cell_type": "code",
   "execution_count": null,
   "metadata": {},
   "outputs": [],
   "source": [
    "# {1, 2, 3} 집합에서 3개의 숫자를 선택하는 기본 예제\n",
    "# 이미 사용한 숫자는 사용 X하는 경우\n",
    "\n",
    "arr = {i for i in range(1, 4)}\n",
    "path = [0] * 3\n",
    "\n",
    "\n",
    "def backTracking(cnt):\n",
    "    # 재귀 종료 조건\n",
    "    # 숫자 3개를 골랐을 때 종료\n",
    "    if cnt == 3:\n",
    "        print(*path)\n",
    "        return\n",
    "\n",
    "    for num in arr:\n",
    "        # 이미 path에 포함된 숫자라면 재귀 실행X\n",
    "        if num in path:\n",
    "            continue\n",
    "        # 들어가기 전 로직 - 경로 저장\n",
    "        path[cnt] = num\n",
    "\n",
    "        # 다음 재귀함수 호출\n",
    "        backTracking(cnt + 1)  # 하나 골랐으니 다음 함수 호출은 ++\n",
    "\n",
    "        # # 돌아와서 할 로직\n",
    "        path[cnt] = 0\n",
    "        # --> 백트래킹의 가장 핵심!! 가지치기와 돌아왔을 경우의 초기화\n",
    "        # 돌아갔을 경우 초기화해주어야 다음 연산이 진행될 수 있음.\n",
    "\n",
    "\n",
    "backTracking(0)"
   ]
  },
  {
   "cell_type": "code",
   "execution_count": null,
   "metadata": {},
   "outputs": [],
   "source": [
    "# 백트래킹 기초적인 구조\n",
    "\n",
    "def func():\n",
    "    pass\n",
    "    # 재귀를 끝내는 기저 조건\n",
    "\n",
    "    # 반복문\n",
    "        # 가지치기\n",
    "\n",
    "        # 재귀 들어가기 전\n",
    "\n",
    "        # 재귀함수 호출\n",
    "\n",
    "        # 돌아와서 초기화 \n",
    "    "
   ]
  },
  {
   "cell_type": "markdown",
   "metadata": {},
   "source": [
    "**백트래킹 기법**\n",
    "\n",
    "어떤 노드의 유망성을 점검한 후 유망하지 않다고 결정되면 그 노드의 부모로 되돌아가 다음 자식 노드를 탐색.\n",
    "\n",
    "어떤 노드를 방문했을 때 그 노드를 포함한 경로가 해답이 될 수 없으면 그 노드는 유망하지 않다고 하며, 반대로 해답의 가능성이 있으면 유망하다 판단.\n",
    "\n",
    "가지치기: 유망하지 않은 노드가 포함되는 경로는 더이상 고려하지 않음\n",
    "\n",
    "+ 상태공간트리\n"
   ]
  },
  {
   "cell_type": "markdown",
   "metadata": {},
   "source": [
    "# 트리\n",
    "\n",
    "사이클이 없는 연결 그래프.\n",
    "\n",
    "연결그래프: 어디에서 출발하던 모든 노드에 방문 가능함.\n",
    "\n",
    "싸이클이 없는 무향 연결 그래프\n",
    "- 두 노드 사이에는 유일한 경로 존재.\n",
    "- 각 노드는 최대 하나의 부모 노드가 존재할 수 있음\n",
    "- 각 노드는 자식 노드가 없거나 하나 이상이 존재할 수 있음\n",
    "\n",
    "비선형 구조\n",
    "- 원소들 간에 1:n관계를 가지는 자료구조\n",
    "- 원소들 간에 계층관계를 가지는 계층형 자료구조\n",
    "\n",
    "- 한 개 이상의 노드로 이루어진 유한 집합이며 다음 조건 만족\n",
    "  : 노드 중 부모가 없는 노드-> 루트 노드\n",
    "  : 나머지 노드들은 n개의 분리 집합으로 분리될 수 있음-> 각각 하나으 ㅣ트리가 되며 루트의 서브트리라고 함.\n",
    "\n",
    "- 노드: 트리의 원소이고 정점이라고도 함\n",
    "- 간선: 노드를 연결하는 선\n",
    "- 루트 노드: 트리의 시작 노드\n",
    "\n",
    "**이진트리**\n",
    "\n",
    ": 자녀 노드가 둘 이하인 트리\n",
    "\n",
    "이진트리 종류:\n",
    "1) 완전 이진 트리: 마지막 레벨을 제외한 모든 레벨이 가득 차 있음, 마지막 레벨 노드는 왼쪽부터 채워져야 함\n",
    "2) 포화 이진 트리\n",
    "3) 그 외\n",
    "\n",
    "**순회방법**\n",
    "1) 전위 (부모-좌-우)\n",
    "2) 중위 (좌-부모-우)\n",
    "3) 후위 (좌-우-부모)\n",
    "\n",
    "**저장방법**\n",
    "\n",
    "\n",
    "그냥 8/20 작성한 쥬피터파일 참고.\n",
    "\n",
    "\n"
   ]
  }
 ],
 "metadata": {
  "kernelspec": {
   "display_name": "Python 3",
   "language": "python",
   "name": "python3"
  },
  "language_info": {
   "codemirror_mode": {
    "name": "ipython",
    "version": 3
   },
   "file_extension": ".py",
   "mimetype": "text/x-python",
   "name": "python",
   "nbconvert_exporter": "python",
   "pygments_lexer": "ipython3",
   "version": "3.9.13"
  },
  "orig_nbformat": 4
 },
 "nbformat": 4,
 "nbformat_minor": 2
}
