{
 "cells": [
  {
   "cell_type": "markdown",
   "metadata": {},
   "source": [
    "\n",
    "SQL시작!\n",
    "\n",
    "관계형 데이터베이스: 데이터 간에 관계가 있는 데이터 항목들의 모음\n",
    "테이블, 행, 열의 정보를 구조화하는 방식.\n",
    "서로 관련된 데이터 포인터를 저장하고 이에 대한 엑세스를 제공.\n",
    "각 데이터에 고유한 식별 값(PK)를 부여함\n",
    "\n",
    "Table(Relation), Field(Column, Attribute), Record(Row, Tuple)\n",
    "--> Database(Schema)\n",
    "Primary Key(기본 키)- 각 레코드의 고유한 값. 관계형 데이터베이스에서 레코드의 식별자로 활용\n",
    "Foreign Key(외래 키)- 테이블의 필드 중 다른 테이블의 레코드를 식별할 수 있는 키. 다른 테이블의 기본 키를 참조. 각 레코드에서 서로 다른 테이블 간의 관계를 만드는 데 이용.\n",
    "\n",
    "DBMS/RDBMS\n",
    ": SQLite, Oracle Database~~~\n",
    "\n",
    "DBMS- 데이터의 저장 및 관리를 용이하게 하고 DB와 사용자간의 인터페이스 역할.\n",
    "\n",
    "SQL: 데이터베이스에 정보를 저장하고 처리하기 위한 프로그래밍 언어\n",
    "SQL 키워드는 대소문자를 구분하지 않음. SQL Statements의 끝에는 세미콜론이 필요(구분)\n",
    "\n",
    "DDL, DQL, DML, DCL\n",
    "\n",
    "v\n",
    "타입 선호도\n",
    "컬럼에 데이터타입이 명시적으로 지정되지 않았거나 지원하지 않을 때 sqlite가 자동으로 데이터타입을 추론하는 것\n",
    "\n",
    "목적-유연한 데이터 타입 지원, 간편한 데이터 처리, SQL 호환성\n",
    "\n"
   ]
  }
 ],
 "metadata": {
  "language_info": {
   "name": "python"
  }
 },
 "nbformat": 4,
 "nbformat_minor": 2
}
