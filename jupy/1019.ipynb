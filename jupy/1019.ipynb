{
 "cells": [
  {
   "cell_type": "markdown",
   "metadata": {},
   "source": [
    "postman put요청으로 게시글 수정시 전체 데이터를 입력해야만 수정되는 부분\n",
    "-> PUT method에 partial 주기 // article, data=request.data, partial=True\n",
    "기본적으로 모든 필수 필드에 대해 값을 전달해야한다-그렇지 않으면 유효성 검사(is_valid())에서 fail하기에 수정이 되지 않음--> partial True설정으로 모든 부분에 대한 유효성 검사 통과 의무 x 일부 데이터만 갱신 가능.\n",
    "serilalizers.py에서 class를 정의하며 field설정한 부분에 대해 모두 검사함. \n",
    "\n"
   ]
  },
  {
   "cell_type": "markdown",
   "metadata": {},
   "source": [
    "읽기 전용 필드\n",
    "교재 POST 부분 참고\n",
    "데이터 조회 시에는 출력하나 유효성 검사에서는 제외시키는~\n",
    "\n",
    "특정 필드는 orverride혹은 추가한 경우 read_only_fields는 동작하지 않아 해당 클래스의 read_only 인자 작성"
   ]
  },
  {
   "cell_type": "markdown",
   "metadata": {},
   "source": [
    "역참조 데이터 구성\n"
   ]
  }
 ],
 "metadata": {
  "language_info": {
   "name": "python"
  }
 },
 "nbformat": 4,
 "nbformat_minor": 2
}
