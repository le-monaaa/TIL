{
 "cells": [
  {
   "cell_type": "markdown",
   "metadata": {},
   "source": [
    "1016 N:M \n",
    "\n",
    "ex) 병원 예약 모델\n",
    "\n",
    "문제 -\n",
    "\n",
    "n명의 의사에게 m명의 환자가 예약을 하는 경우.\n",
    "1번의사와 2번의사에 한번에 예약할 수 없고, 각자 한번씩 예약할 경우 같은 객체인 환자 1의 정보가 각각 저장되어 중복데이터를 가지게됨\n",
    "\n",
    "역참조 이용, 예약 테이블 따로 생성\n",
    "\n",
    "--> reservation class를 거쳐서 예약할 수밖에 없음\n",
    "데이터로 의사와 환자를 가져오지만 객체지향적 면에서는 바람직하지 않다\n",
    "\n",
    "--> django의 ManyToManyField \n",
    "중개모델 자동 생성\n",
    "\n",
    "\n",
    "### ManyTOMany field(tp, **options)\n",
    "\n",
    "Many to many 관계 설정 시 사용하는 모델 필드\n",
    "\n",
    "- related_name. symmetrical, through\n",
    "\n",
    "**related_name**\n",
    "역참조시 사용하는 manager name 변경\n",
    "\n",
    "**symmetrical arguments\n",
    "Many to many field가 동일한 모델을 가리키는 정의에서만 사용\n",
    "기본값 : True\n",
    "\n",
    "M:N에서의 methods\n",
    "add() : 지정된 객체를 관련 객체 집합에 추가(이미 존재하는 관계에 사용하면 관계가 복제되지 x)\n",
    "remove(): 관련 객체 집합에서 지정된 모델 객체를 제거\n",
    "\n",
    "**through**\n",
    "중개 테이블에 \"추가데이터\"를 사용해 M:N관계를 형성하려는 경우에 사용\n",
    "\n",
    "--------------------\n",
    "\n",
    "\n",
    "\n",
    "\n",
    "\n",
    "\n",
    "\n",
    "\n",
    "\n"
   ]
  }
 ],
 "metadata": {
  "language_info": {
   "name": "python"
  }
 },
 "nbformat": 4,
 "nbformat_minor": 2
}
