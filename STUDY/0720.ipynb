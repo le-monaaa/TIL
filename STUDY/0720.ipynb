{
 "cells": [
  {
   "cell_type": "markdown",
   "metadata": {},
   "source": [
    "## 제어문, 조건문, 반복문\n",
    "\n",
    "### 제어문\n",
    "\n",
    "코드의 실행 흐름을 제어하는 데 사용되는 구문. 조건에 따라 코드 블록을 실행하거나 반복적으로 코드를 실행.\n",
    "\n",
    "### 조건문\n",
    "\n",
    "주어진 조건식을 평가해 해당 조건이 True인 경우에만 코드 블록을 실행하거나 건너뜀\n",
    "\n",
    "#### if, elif, else\n",
    "```\n",
    "if 표현식:\n",
    "    코드 블록\n",
    "elif 표현식:\n",
    "    코드 블록\n",
    "else:\n",
    "    코드 블록\n",
    "```\n",
    "\n",
    "##### 복수 조건문, 중첩 조건문\n",
    "\n",
    "조건식을 동시 검사하는 것이 아니라 순차적으로 비교\n",
    "\n",
    "if 문 안에 if 사용 가능\n",
    "\n",
    "### 반복문\n",
    "\n",
    "주어진 코드 블록을 여러 번 반복해서 실행하는 구문\n",
    "(주어진 조건이 참인 동안에, 특정 작업을 반복적으로 수행)\n",
    "\n",
    "#### for\n",
    "\n",
    "임의의 시퀀스의 항목들을 그 시퀀스에 들어있는 순서대로 반복(시퀀스:길이, 인덱스사용가능, 순서가 있음)\n",
    "```\n",
    "for 변수 in 반복 가능한 객체:\n",
    "    코드블록\n",
    "```\n",
    "리스트 내 첫 항목부터 끝 항목까지 반복 변수에 할당되고 코드블록이 실행됨.\n",
    "\n",
    "for i in \"string\" --> 문자열도 시퀀스.\n",
    "\n",
    "**반복 가능한 객체**\n",
    "\n",
    "반복문에서 순회할 수 있는 객체. 시퀀스 객체 + dict + set + etc"
   ]
  },
  {
   "cell_type": "code",
   "execution_count": null,
   "metadata": {},
   "outputs": [],
   "source": [
    "## 중첩 리스트 순회\n",
    "\n",
    "elements = [[\"A\", \"B\"], [\"c\", \"d\"]]\n",
    "\n",
    "for elem in elements:\n",
    "    print(elem)\n",
    "\n",
    "for elem2 in elements:\n",
    "    for item in elem2:\n",
    "        print(item)"
   ]
  },
  {
   "cell_type": "code",
   "execution_count": null,
   "metadata": {},
   "outputs": [],
   "source": [
    "# else문은 반복문 실행한 이후에 실행됨\n",
    "# 반복문이 break문으로 종료될 때는 else문이 실행되지 x\n",
    "# break를 통해 중간에 종료되지 않은 경우에만 else문 생성\n",
    "# 반복문이 중간에 종료된 적이 있는지를 검사할 때 pass 유용하게 사용\n",
    "\n",
    "string1 = \"apple\"\n",
    "\n",
    "for c in string1:\n",
    "    if c == \"b\":\n",
    "        print(\"b!\")\n",
    "        break"
   ]
  },
  {
   "cell_type": "markdown",
   "metadata": {},
   "source": [
    "#### while \n",
    "\n",
    "주어진 조건식이 참(True)인 동안 코드를 반복해서 실행\n",
    "\n",
    "== 조건식이 거짓이 될 때 까지 반복\n",
    "\n",
    "```\n",
    "while 조건식:\n",
    "    코드 블록\n",
    "```\n",
    "\n",
    "**while문은 반드시 종료조건이 필요**\n",
    "\n",
    "for : iterable 요소를 하나씩 순회하며 반복.\n",
    "    반복 횟수가 명확하게 정해져 있는 경우.\n",
    "    리스트, 튜플, 문자열 등과 같은 시퀀스 형식의 데이터 처리 시\n",
    "\n",
    "while : 주어진 조건식이 참인 동안 반복\n",
    "    반복 횟수가 불명확, 조건에 따라 반복을 종료해야 할 경우\n",
    "    \n",
    "\n",
    "### 반복 제어\n",
    " for while은 매 반복마다 본문 내 모든 코드를 실행하지만 때때로 일부만 실행하는 것이 필요할 때가 있음\n",
    "\n",
    " **break**  : 반복 즉시 중지\n",
    " **continue** : 현재 반복문의 남은 코드를 건너뛰고 다음 코드로 넘어감.\n",
    "둘을 남용하면 코드 가독성 저하. 특정 종료 조건을 만들어 break 대신하거나\n",
    "if문으로 continue를 사용해 코드를 건너뛸 수도 있음."
   ]
  },
  {
   "cell_type": "markdown",
   "metadata": {},
   "source": [
    "### List Comprehension\n",
    "\n",
    "간편하고 효율적인 리스트 생성 방법\n",
    "리스트를 쉽게, 짧게 한 줄로 만들 수 있는 파이썬의 문법\n",
    "\n",
    "**구조**\n",
    "```\n",
    "[expression for 변수 in iterable]\n",
    "list(expression for 변수 in iterable)\n",
    "```"
   ]
  },
  {
   "cell_type": "code",
   "execution_count": null,
   "metadata": {},
   "outputs": [],
   "source": [
    "\n",
    "nums = [1, 2, 3, 4, 5]\n",
    "sq_nums = []\n",
    "\n",
    "for num in nums:\n",
    "    sq_nums.append(num**2)\n",
    "\n",
    "print(sq_nums)\n",
    "\n",
    "# list comprehension 사용\n",
    "\n",
    "sq_nums2 = [num**2 for num in nums]\n",
    "\n",
    "print(sq_nums2)"
   ]
  },
  {
   "cell_type": "code",
   "execution_count": null,
   "metadata": {},
   "outputs": [],
   "source": [
    "## if문과 같이 사용\n",
    "# [expression for 변수 in iterable if 조건식]\n",
    "# list(expression for 변수 in iterable if 조건식)\n",
    "\n",
    "result = [i for i in range(10) if i % 2 == 1]\n",
    "\n",
    "result2 = []\n",
    "for i in range(10):\n",
    "    if i % 2 == 1:\n",
    "        result.append(i)"
   ]
  },
  {
   "cell_type": "markdown",
   "metadata": {},
   "source": [
    "#### pass\n",
    "\n",
    "아무런 동작도 수행하지 않고 넘어가는 역할\n",
    "\n",
    "문법적으로 문장이 필요하지만 프로그램 실행에는 영향을 주지 않아야 할 때 사용\n",
    "    1. 코드 작성 중 미완성 부분: 나중에 추가될 수 있는 부분,.. 컴파일 중 오류 발생 X\n",
    "    2. 조건문에서 아무런 동작을 수행하지 않아야 할 때\n",
    "    3. 무한 루프에서 조건이 충족되지 않을 때 pass를 사용하여 루프를 계속 진행"
   ]
  },
  {
   "cell_type": "markdown",
   "metadata": {},
   "source": [
    "#### enumerate(iterable, start = 0)\n",
    "\n",
    "iterable 객체의 각 요소에 대해 인덱스와 함께 반환하는 내장함수"
   ]
  },
  {
   "cell_type": "code",
   "execution_count": 1,
   "metadata": {},
   "outputs": [
    {
     "name": "stdout",
     "output_type": "stream",
     "text": [
      "인덱스 0: apple\n",
      "인덱스 1: mango\n",
      "인덱스 2: berry\n"
     ]
    }
   ],
   "source": [
    "fruits = [\"apple\", \"mango\", \"berry\"]\n",
    "\n",
    "for index, fruit in enumerate(fruits):\n",
    "    print(f\"인덱스 {index}: {fruit}\")"
   ]
  },
  {
   "cell_type": "markdown",
   "metadata": {},
   "source": [
    "requests : 파이썬으로 HTTP 통신이 필요한 프로그램을 작성할 때 가장 많이 사용되는 라이브러리.\n",
    "원격에 있는 API 호출 시에 유용하게 사용 가능.\n",
    "\n",
    "API\n",
    "\n",
    "GET 방식: requests.get()\n",
    "POST 방식: requests.post()\n",
    "PUT 방식: requests.put()\n",
    "DELETE 방식: requests.delete()\n",
    "\n",
    "응답 상태: status_code 로"
   ]
  },
  {
   "cell_type": "markdown",
   "metadata": {},
   "source": [
    "https://www.acmicpc.net/problem/2501  백준"
   ]
  }
 ],
 "metadata": {
  "kernelspec": {
   "display_name": "Python 3",
   "language": "python",
   "name": "python3"
  },
  "language_info": {
   "codemirror_mode": {
    "name": "ipython",
    "version": 3
   },
   "file_extension": ".py",
   "mimetype": "text/x-python",
   "name": "python",
   "nbconvert_exporter": "python",
   "pygments_lexer": "ipython3",
   "version": "3.9.13"
  },
  "orig_nbformat": 4
 },
 "nbformat": 4,
 "nbformat_minor": 2
}
