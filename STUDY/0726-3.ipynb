{
 "cells": [
  {
   "cell_type": "markdown",
   "metadata": {},
   "source": [
    "### 표준 라이브러리\n",
    "\n",
    "파이썬 설치할 때 자동으로 컴퓨터에 설치됨.\n",
    "\n",
    "sys, re 모듈은 파이썬의 중요 표준 라이브러리."
   ]
  },
  {
   "cell_type": "code",
   "execution_count": 1,
   "metadata": {},
   "outputs": [
    {
     "name": "stdout",
     "output_type": "stream",
     "text": [
      "477\n"
     ]
    }
   ],
   "source": [
    "# datetime\n",
    "\n",
    "import datetime\n",
    "day1 = datetime.date(2021, 12, 14)\n",
    "day2 = datetime.date(2023, 4, 5) #날짜 객체 생성\n",
    "\n",
    "diff = day2 - day1\n",
    "print(diff.days)"
   ]
  }
 ],
 "metadata": {
  "kernelspec": {
   "display_name": "Python 3",
   "language": "python",
   "name": "python3"
  },
  "language_info": {
   "codemirror_mode": {
    "name": "ipython",
    "version": 3
   },
   "file_extension": ".py",
   "mimetype": "text/x-python",
   "name": "python",
   "nbconvert_exporter": "python",
   "pygments_lexer": "ipython3",
   "version": "3.11.4"
  },
  "orig_nbformat": 4
 },
 "nbformat": 4,
 "nbformat_minor": 2
}
