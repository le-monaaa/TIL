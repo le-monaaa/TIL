{
 "cells": [
  {
   "cell_type": "markdown",
   "metadata": {},
   "source": [
    "https://wikidocs.net/29"
   ]
  },
  {
   "cell_type": "markdown",
   "metadata": {},
   "source": [
    "### 모듈\n",
    "\n",
    "import 모듈명\n",
    "\n",
    "import : 현재 디렉터리에 있는 파일이나 파이썬 라이브러리가 저장된 디렉터리에 있는 모듈만 불러 올 수 있음.\n",
    "\n",
    "form 모듈명 import 모듈함수 => 모듈 내의 함수만 따로 import\n",
    "- 사용시 모듈명.함수명 이 아니라 함수명만 써서 사용 가능\n",
    "\n",
    "여러 함수 가져올때는?\n",
    "from 모듈명 import 함수명1,함수명2\n",
    "from 모듈명 import*\n",
    "\n",
    "**if__name__ == \"__main_\\_\"**\n",
    "\n",
    "__name_\\_은 파이썬 내부의 특별한 변수명이다. 직접 해당 모듈 파일을 실행할 경우 그 모듈의 __name_\\_ 변수에는 __main_\\_값이 저장된다. 다른 모듈로서 호출할 경우 __name_\\_변수에는 해당 모듈명이 저장된다.\n",
    "\n",
    "즉 상단의 조건문은 이 함수가 main일 경우 내부 명령문을 실행하라는 의미\n",
    "\n",
    "\n",
    "#### 클래스나 변수 등을 포함한 모듈\n",
    "\n",
    "모듈에는 클래스, 변수, 함수 등을 모두 포함할 수 있다."
   ]
  },
  {
   "cell_type": "code",
   "execution_count": null,
   "metadata": {},
   "outputs": [],
   "source": [
    "# mod.py\n",
    "PI = 3.141592 #변수\n",
    "\n",
    "class Math: #클래스\n",
    "  def solv(self, r):\n",
    "    return PI * (r ** 2)\n",
    "\n",
    "def add(a, b): #함수\n",
    "    return a+b\n",
    "\n",
    "#호출방법\n",
    "\n",
    "# print(mod2.PI) #3.141592\n",
    "# print(a.solv(2)) # 12.566368\n",
    "# print(mod2.add(mod2.PI, 4.4)) # 7.541592\n"
   ]
  },
  {
   "cell_type": "markdown",
   "metadata": {},
   "source": [
    "#### 다른 디렉터리에서 모듈 불러오기\n",
    "\n",
    "sys.path.append 사용\n",
    "PYTHONPATH 사용\n"
   ]
  },
  {
   "cell_type": "code",
   "execution_count": null,
   "metadata": {},
   "outputs": [],
   "source": [
    "import sys\n",
    "\n",
    "sys.path # 파이썬 라이브러리가 설치되어 있는 디렉토리 목록을 보여줌. \n",
    "sys.path.append(\"\") #추가할 모듈이 있는 경로\n",
    "# 디렉터리 이동 없이 모듈 사용 가능"
   ]
  },
  {
   "cell_type": "markdown",
   "metadata": {},
   "source": [
    "set (사용할 모듈이 있는 디렉터리 주소)\n",
    "\n",
    "C:\\doit>set PYTHONPATH=C:\\doit\\mymod\n",
    "C:\\doit>python\n",
    "pythonpath 환경변수에 해당 디렉터리를 설정해 이동이나 별도의 모듈 추가 작업 필요x\n",
    "그냥 불러서 쓰면 됨\n"
   ]
  },
  {
   "cell_type": "markdown",
   "metadata": {},
   "source": [
    "https://wikidocs.net/1418"
   ]
  },
  {
   "cell_type": "markdown",
   "metadata": {},
   "source": [
    "### 패키지\n",
    "\n",
    "패키지 : 관련 있는 모듈의 집합.\n",
    "패키지는 파이썬 모듈을 계층적으로 관리할 수 있도록 함.\n",
    ".py 파일\n",
    "\n",
    "---------\n",
    "game/ #디렉터리(루트 디렉터리)\n",
    "  __init_\\_.py\n",
    "  sound/ #디렉터리(서브 디렉터리)\n",
    "    __init_\\_.py\n",
    "    echo.py\n",
    "    wac.py\n",
    "  graphic/ #디렉터리(서브 디렉터리)\n",
    "    __init_\\_.py \n",
    "    screen.py\n",
    "    render.py\n",
    "  play/ #디렉터리(서브 디렉터리)\n",
    "    __init_\\_.py\n",
    "    run.py\n",
    "    test.py\n",
    "\n",
    ".py는 파이썬 모듈.\n",
    "\n",
    "패키지 구조로 파이썬 프로그램을 만들면 공동 작업, 유지보수 측면에서 유리.\n",
    "패키지 구조로 모듈 만들면 다른 모듈과 이름이 겹쳐도 더 안전하게 사용 가능.\n",
    "\n",
    "\n",
    "#### __init_\\_.py의 용도\n",
    "\n",
    "해당 디렉터리가 패키지의 일부임을 알려 주는 역할. 위의 game, sound, graphic 등 패키지에 포함된 디렉터리에 __init_\\_.py가 없다면 패키지로 인식되지 않는다.\n",
    "\n",
    "python 3.3부터는 없어도 패키지로 인식하지만 하위버전 호환을 위해 __init_\\_.py를 생성하는것이 안전.\n",
    "\n",
    "__init_\\_.py 파일은 패키지와 관련된 설정이나 초기화 코드를 포함할 수 있다.\n",
    "\n",
    "**패키지 변수 및 함수 정의**\n",
    "game 패키지의 __init_\\_.py파일에 공통 변수나 함수를 정의할 수 있다.\n",
    "\n",
    "```\n",
    "# C:/doit/game/__init__.py\n",
    "VERSION = 3.5\n",
    "\n",
    "def print_version_info():\n",
    "    print(f\"The version of this game is {VERSION}.\")\n",
    "\n",
    ">>> import game\n",
    ">>> print(game.VERSION)\n",
    "3.5\n",
    ">>> game.print_version_info()\n",
    "The version of this game is 3.5.\n",
    "```\n",
    "**패키지 내 모듈을 미리 import**\n",
    "__init_\\_.py 파일에 패키지 내의 다른 모듈을 미리 import해 패키지를 사용하는 코드에서 간편하게 접근할 수 있다.\n",
    "\n",
    "```\n",
    "# C:/doit/game/__init__.py\n",
    "from .graphic.render import render_test  # . ->현재 디렉터리\n",
    "\n",
    "VERSION = 3.5\n",
    "\n",
    "def print_version_info():\n",
    "    print(f\"The version of this game is {VERSION}.\")\n",
    "\n",
    "\n",
    ">>> import game\n",
    ">>> game.render_test()\n",
    "render\n",
    "\n",
    "```\n",
    "**패키지 초기화**\n",
    "__init_\\_.py 파일에 패키지를 처음 불러올 때 실행되어야 하는 코드를 작성.\n",
    "데이터베이스 연결이나 설정 파일 로드 등\n",
    "\n",
    "game 디렉터리에 해당 초기화 코드 작성 시 game 디렉터리 하위 모듈 함수 import시에도 초기화 코드가 실행됨.\n",
    "\n",
    "단, 초기화 코드는 한 번 실행된 후에는 다시 import해도 실행되지 않음 \n",
    "game 패키지 import(초기화실행)>game 하위 모듈 import(초기화실행x)\n",
    "\n",
    "\n",
    "**__all_\\_**\n",
    "```\n",
    ">>> from game.sound import *  \n",
    "Initializing game ...\n",
    ">>> echo.echo_test()\n",
    "Traceback (most recent call last):\n",
    "    File \"<stdin>\", line 1, in <module>\n",
    "NameError: name 'echo' is not defined\n",
    "```\n",
    "\n",
    "import *을 했는데 echo가 정의되지 않았다는 오류 발생.\n",
    "\n",
    "특정 디렉터리의 모듈을 *을 사용하여 import할 때에는 해당 디렉터리의 __init_\\_.py파일에\n",
    "__all_\\_ 변수를 설정하고 import할 수 있는 모듈을 정의해 줘야 함\n",
    "\n",
    "```\n",
    "# C:/doit/game/sound/__init__.py\n",
    "__all__ = ['echo']\n",
    "```\n",
    "import *할 경우 이곳에 정의된 모듈만 import됨.\n",
    "\n",
    "from game.sound.echo import *은 __all__과 상관없이 import된다. \n",
    "이렇게 __all__과 상관없이 무조건 import되는 경우는 from a.b.c import *에서 \n",
    "from의 마지막 항목인 c가 모듈인 때이다.\n",
    "\n",
    "**relative 패키지**\n",
    "A 디렉터리의 b모듈에서 C디렉터리의 k.py의 d모듈을 사용하고 싶다면? R : 루트디렉터리\n",
    "from R.C.k import d #전체 경로를 사용하여 import하는 방법\n",
    "from ..C.k import d #부모디렉터리 .. 현재디렉터리 . 사용\n",
    "\n",
    "R/\n",
    "  __init_\\_.py\n",
    "  A/\n",
    "  s.py\n",
    "  e.py\n",
    "  C/\n",
    "  k.py\n"
   ]
  },
  {
   "cell_type": "markdown",
   "metadata": {},
   "source": [
    "https://wikidocs.net/30"
   ]
  },
  {
   "cell_type": "markdown",
   "metadata": {},
   "source": [
    "### 예외 처리\n",
    "\n",
    "#### try-except\n",
    "```\n",
    "trt:\n",
    "  실행문\n",
    "except [발생오류 [as 오류변수]]:\n",
    "  실행문\n",
    "```\n",
    "1. try-except만 쓰는 방법 : 오류의 종류 상관없이 오류 발생시 except 블록 수행\n",
    "\n",
    "```\n",
    "try:\n",
    "  실행문\n",
    "except:\n",
    "  실행문\n",
    "```\n",
    "\n",
    "2. 발생 오류만 포함한 except문 : except문에 미리 정해 둔 오류와 동일한 오류일 경우에만 except 블록 수행\n",
    "```\n",
    "try:\n",
    "  실행문\n",
    "except 발생오류:\n",
    "  실행문\n",
    "```\n",
    "\n",
    "3. 발생오류와 오류 변수까지 포함한 except문 : 오류의 내용까지 알고싶을 때.\n",
    "```\n",
    "try:\n",
    "  실행문\n",
    "except 발생오류 as 오류변수:\n",
    "  실행문\n",
    "```"
   ]
  },
  {
   "cell_type": "code",
   "execution_count": 3,
   "metadata": {},
   "outputs": [],
   "source": [
    "try:\n",
    "    4 / 0\n",
    "except :\n",
    "    pass\n",
    "    # print(e)\n",
    "\n",
    "#오류 발생해도 그냥 pass 실행--> 오류 회피하기."
   ]
  },
  {
   "cell_type": "code",
   "execution_count": 4,
   "metadata": {},
   "outputs": [
    {
     "name": "stdout",
     "output_type": "stream",
     "text": [
      "division by zero\n"
     ]
    }
   ],
   "source": [
    "try:\n",
    "    4 / 0\n",
    "except ZeroDivisionError as e:\n",
    "    print(e)\n",
    "#division by zero 에러메시지 출력"
   ]
  },
  {
   "cell_type": "markdown",
   "metadata": {},
   "source": [
    "#### try-finally 문\n",
    "\n",
    "try문에는 finally 절 사용 가능. 예외 발생 여부에 상관없이 항상 수행됨.\n",
    "사용한 리소스를 close해야할 때 주로 사용함."
   ]
  },
  {
   "cell_type": "code",
   "execution_count": 5,
   "metadata": {},
   "outputs": [],
   "source": [
    "# try_finally.py\n",
    "try:\n",
    "    f = open('foo.txt', 'w')\n",
    "    # 무언가를 수행한다.\n",
    "\n",
    "finally:\n",
    "    f.close()  # 중간에 오류가 발생하더라도 무조건 실행된다."
   ]
  },
  {
   "cell_type": "markdown",
   "metadata": {},
   "source": [
    "#### 여러 개의 오류 처리하기\n",
    "\n",
    "가능\n",
    "\n",
    "try:\n",
    "  실행문\n",
    "except 발생오류1:\n",
    "  실행문\n",
    "except 발생오류2:\n",
    "  실행문\n",
    "  "
   ]
  },
  {
   "cell_type": "code",
   "execution_count": null,
   "metadata": {},
   "outputs": [],
   "source": [
    "# many_error.py\n",
    "try:\n",
    "    a = [1,2]\n",
    "    print(a[3])\n",
    "    4/0\n",
    "except ZeroDivisionError:\n",
    "    print(\"0으로 나눌 수 없습니다.\")\n",
    "except IndexError:\n",
    "    print(\"인덱싱 할 수 없습니다.\")\n"
   ]
  },
  {
   "cell_type": "code",
   "execution_count": null,
   "metadata": {},
   "outputs": [],
   "source": [
    "try:\n",
    "    a = [1,2]\n",
    "    print(a[3])\n",
    "    4/0\n",
    "except ZeroDivisionError as e:\n",
    "    print(e)\n",
    "except IndexError as e:\n",
    "    print(e)\n",
    "\n",
    "# 에러메세지 출력"
   ]
  },
  {
   "cell_type": "code",
   "execution_count": null,
   "metadata": {},
   "outputs": [],
   "source": [
    "try:\n",
    "    a = [1,2]\n",
    "    print(a[3])\n",
    "    4/0\n",
    "except (ZeroDivisionError, IndexError) as e:\n",
    "    print(e)\n",
    "\n",
    "#같이 처리할 수도 있다~~\n"
   ]
  },
  {
   "cell_type": "markdown",
   "metadata": {},
   "source": [
    "#### try-else 문\n",
    "\n",
    "try문에는 else도 사용 가능하다\n",
    "\n",
    "try:\n",
    "  실행문\n",
    "except [발생오류 [as 오류변수]]:\n",
    "  실행문\n",
    "else: #오류가 없을 경우에만 수행.\n",
    "\n",
    "try문 수행 중 오류 발생시 except절. 오류 발생하지 않을 시 else절 수행"
   ]
  },
  {
   "cell_type": "code",
   "execution_count": null,
   "metadata": {},
   "outputs": [],
   "source": [
    "try:\n",
    "    age = int(input(\"나이를 입력하세요>>\"))\n",
    "except:\n",
    "    print(\"입력이 정확하지 않습니다\")\n",
    "else:\n",
    "    if age <= 18:\n",
    "        print(\"미성년자는 출입 금지입니다.\")\n",
    "    else:\n",
    "        print(\"환영합니다\")\n",
    "\n"
   ]
  },
  {
   "cell_type": "markdown",
   "metadata": {},
   "source": [
    "#### 오류 일부러 발생시키기 NotImplementedError\n",
    "\n",
    "꼭 작성해야하는 부분이 구현되지 않았을 경우 일부러 오류를 발생시키기 위해 사용.\n",
    "\n"
   ]
  },
  {
   "cell_type": "code",
   "execution_count": null,
   "metadata": {},
   "outputs": [],
   "source": [
    "class Bird:\n",
    "    def fly(self):\n",
    "        raise NotImplementedError\n",
    "\n",
    "class Eagle(Bird): # Bird를 상속받는 자식클래스\n",
    "    pass\n",
    "\n",
    "eagle = Eagle()\n",
    "eagle.fly()\n",
    "\n",
    "# Eagle함수는 Bird 클래스를 상속받았고 fly메서드를 오버라이딩하여 구현하지 않았음.\n",
    "# eagle 객체의 fly 메서드를 수행하는순간 Bird의 fly 메서드가 수행되어 NotImplementError 발생\n",
    "# 그렇다면 반드시 자식 클래스에서는 fly 함수를 구현해 오버라이딩하여야 함."
   ]
  },
  {
   "cell_type": "markdown",
   "metadata": {},
   "source": [
    "**riase**\n",
    "\n",
    "에러를 발생시키고 싶은 곳에 작성. 아무데나.\n",
    "개발자의 의도대로 돌아가지 않는 것을 방지하기 위해서 일부러 에러를 발생시키는 경우.\n",
    "\n",
    "1. raise 단독으로 쓰기\n",
    "2. raise + 예외처리 이름\n",
    "3. raise + 메시지"
   ]
  },
  {
   "cell_type": "code",
   "execution_count": null,
   "metadata": {},
   "outputs": [],
   "source": [
    "# raise 단독으로 쓰기\n",
    "a = int(input(\"1~5 이내의 숫자 하나를 입력해주세요>> \"))\n",
    "\n",
    "if a < 1 or a > 5:\n",
    "    raise\n",
    "#범위 밖일 경우 아래 실행문은 실행되지 못함.\n",
    "print(f\"입력하신 숫자는 {a}입니다\")"
   ]
  },
  {
   "cell_type": "code",
   "execution_count": null,
   "metadata": {},
   "outputs": [],
   "source": [
    "# raise + 예외처리 이름\n",
    "a = int(input(\"1~5 이내의 숫자 하나를 입력해주세요>>\"))\n",
    "\n",
    "if a <1 or a > 5:\n",
    "    raise ValueError\n",
    "#범위 밖일 경우 ValueError때문에 아래 실행문은 실행되지 못함\n",
    "print(f\"입력하신 숫자는 {a}입니다\")"
   ]
  },
  {
   "cell_type": "code",
   "execution_count": 6,
   "metadata": {},
   "outputs": [],
   "source": [
    "# raise + 메시지\n",
    "a = int(input(\"1~5 이내의 숫자 하나를 입력해주세요>> \"))\n",
    "\n",
    "if a < 1 or a > 5:\n",
    "    raise Exception(\"error\")\n",
    "#범위 밖일 경우 아래 실행문은 실행되지 못함.\n",
    "print(f\"입력하신 숫자는 {a}입니다\")"
   ]
  },
  {
   "cell_type": "code",
   "execution_count": 5,
   "metadata": {},
   "outputs": [
    {
     "name": "stdout",
     "output_type": "stream",
     "text": [
      "angel\n",
      "angel\n",
      "허용되지 않는 별명입니다.\n"
     ]
    }
   ],
   "source": [
    "# 예외 만들기\n",
    "# 프로그램 수행 중 특수한 경우에만 예외 처리를 하기 위해 예외를 만들어 사용하는 경우가 있다.\n",
    "\n",
    "# 파이썬 내장 클래스인 Exception 클래스를 상속하여 만들 수 있음\n",
    "\n",
    "class MyError(Exception):\n",
    "    def __str__(self):\n",
    "        return \"허용되지 않는 별명입니다.\"\n",
    "    # pass\n",
    "\n",
    "def say_nick(nick):\n",
    "    if nick == \"ediot\" :\n",
    "        raise MyError()\n",
    "    print(nick)\n",
    "\n",
    "say_nick(\"angel\")\n",
    "# say_nick(\"ediot\") #에러발생\n",
    "\n",
    "try:\n",
    "    say_nick(\"angle\")\n",
    "    say_nick(\"ediot\")\n",
    "except MyError:\n",
    "    print(\"허용되지 않는 별명입니다\")\n",
    "\n",
    "#오류 메시지 출력\n",
    "\n",
    "try:\n",
    "    say_nick(\"angel\")\n",
    "    say_nick(\"ediot\")\n",
    "except MyError as e:\n",
    "    print(e)\n",
    "\n",
    "## print(e)로 오류 메시지가 출력되지 않음.\n",
    "# 오류 메시지를 출력했을 때 오류 메시지가 보이게 하려면 오류 클래스에 __str__ 메서드를 구현해야 함.\n",
    "\n",
    "\n"
   ]
  },
  {
   "cell_type": "markdown",
   "metadata": {},
   "source": [
    "class MyError(Exception):\n",
    "    def __str__(self):\n",
    "        return \"허용되지 않는 별명입니다.\"\n",
    "\n",
    "이렇게 메서드를 구현해둬야 오류 메시지 보임."
   ]
  }
 ],
 "metadata": {
  "kernelspec": {
   "display_name": "Python 3",
   "language": "python",
   "name": "python3"
  },
  "language_info": {
   "codemirror_mode": {
    "name": "ipython",
    "version": 3
   },
   "file_extension": ".py",
   "mimetype": "text/x-python",
   "name": "python",
   "nbconvert_exporter": "python",
   "pygments_lexer": "ipython3",
   "version": "3.9.13"
  },
  "orig_nbformat": 4
 },
 "nbformat": 4,
 "nbformat_minor": 2
}
