{
 "cells": [
  {
   "cell_type": "markdown",
   "metadata": {},
   "source": [
    "### 표준 라이브러리\n",
    "\n",
    "파이썬 설치할 때 자동으로 컴퓨터에 설치됨.\n",
    "\n",
    "sys, re 모듈은 파이썬의 중요 표준 라이브러리."
   ]
  },
  {
   "cell_type": "code",
   "execution_count": null,
   "metadata": {},
   "outputs": [],
   "source": [
    "# datetime\n",
    "\n",
    "import datetime\n",
    "day1 = datetime.date(2021, 12, 14)\n",
    "day2 = datetime.date(2023, 4, 5) #날짜 객체 생성\n",
    "\n",
    "# 두 날짜의 차이 구하기\n",
    "diff = day2 - day1\n",
    "print(diff.days)\n",
    "\n",
    "# 요일구하기\n",
    "day = datetime.date(2023, 7, 27)\n",
    "day.weekday()\n",
    "# 0 월 1 화 2 수 3 목 4 금 5 토 6 일\n",
    "day.isoweekday()\n",
    "# 1 월 2 화 3 수 4 목 5 금 6 토 7 일\n"
   ]
  },
  {
   "cell_type": "code",
   "execution_count": 7,
   "metadata": {},
   "outputs": [
    {
     "name": "stdout",
     "output_type": "stream",
     "text": [
      "1690440195.9819348\n",
      "Thu Jul 27 15:43:15 2023\n"
     ]
    },
    {
     "data": {
      "text/plain": [
       "'Thu Jul 27 15:43:15 2023'"
      ]
     },
     "execution_count": 7,
     "metadata": {},
     "output_type": "execute_result"
    }
   ],
   "source": [
    "# time\n",
    "# time.time() UTC를 사용해 현재 시간을 실수 형태로 리턴\n",
    "# 1970.01.01 0:0:0을 기준으로 지난 시간을 초 단위로 리턴해줌\n",
    "\n",
    "import time\n",
    "print(time.time())\n",
    "\n",
    "# time.localtime : time이 리턴한 실숫값을 사용해 연,월,일,시,분,초의 형태로 바꾸어줌\n",
    "time.localtime(time.time()) # 1690438843.744688\n",
    "\n",
    "# time.asctime : time.localtime가 리턴된 튜플 형태의 값을 인수로 받아서 \n",
    "# 날짜와 시간을 알아보기 쉬운 형태로 리턴\n",
    "time.asctime(time.localtime(time.time())) # 'Thu Jul 27 15:20:43 2023'\n",
    "\n",
    "# time.ctime : time.asctime(time.localtime(time.time())). 항상 현재 시간만을 리턴.\n",
    "print(time.ctime()) # Thu Jul 27 15:39:54 2023\n",
    "\n",
    "# time.strftime : 시간에 관계된 것을 세밀하게 표현하는 여러 가지 포맷 코드를 제공\n",
    "# time.strftime(\"출력할 형식 포맷 코드\", time.localtime(time.time()))\n",
    "# 포맷 코드 알아보기  https://wikidocs.net/33\n",
    "\n",
    "time.strftime(\"%x\", time.localtime(time.time())) # '07/27/23'\n",
    "time.strftime(\"%c\", time.localtime(time.time())) # 'Thu Jul 27 15:43:15 2023'\n",
    "\n",
    "# time.sleep"
   ]
  }
 ],
 "metadata": {
  "kernelspec": {
   "display_name": "Python 3",
   "language": "python",
   "name": "python3"
  },
  "language_info": {
   "codemirror_mode": {
    "name": "ipython",
    "version": 3
   },
   "file_extension": ".py",
   "mimetype": "text/x-python",
   "name": "python",
   "nbconvert_exporter": "python",
   "pygments_lexer": "ipython3",
   "version": "3.9.13"
  },
  "orig_nbformat": 4
 },
 "nbformat": 4,
 "nbformat_minor": 2
}
