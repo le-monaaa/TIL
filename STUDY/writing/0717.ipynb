{
 "cells": [
  {
   "cell_type": "markdown",
   "metadata": {},
   "source": [
    "python style guide\n",
    "정처기 실기 공부 계획"
   ]
  },
  {
   "cell_type": "markdown",
   "metadata": {},
   "source": [
    "### 사용자 입출력\n",
    "\n",
    "사용자 입력\n",
    "\n",
    "input()\n",
    "\n",
    "input(\"안내문구\" ) 처럼 프롬프트를 띄울 수 있다.\n",
    "\n",
    "input() 으로 들어오는 입력은 문자열 취급."
   ]
  },
  {
   "cell_type": "code",
   "execution_count": 2,
   "metadata": {},
   "outputs": [
    {
     "name": "stdout",
     "output_type": "stream",
     "text": [
      "lifeisshort\n",
      "lifeisshort\n",
      "life is short\n",
      "0 1 2 3 4 5 6 7 8 9 "
     ]
    }
   ],
   "source": [
    "print(\"life\" \"is\" \"short\")\n",
    "print(\"life\" + \"is\" + \"short\")\n",
    "\n",
    "#\" \"와 + 연산은 같은 결과를 낸다.\n",
    "\n",
    "print(\"life\", \"is\", \"short\")\n",
    "\n",
    "# ,는 문자열을 띄운다\n",
    "\n",
    "for i in range(10):\n",
    "    print(i, end= \" \")\n",
    "\n",
    "# 매개변수 end를 사용해 끝 문자를 지정할 수 있다.\n",
    "\n"
   ]
  },
  {
   "cell_type": "markdown",
   "metadata": {},
   "source": [
    "#### 파일 읽고 쓰기\n",
    "\n",
    "###### 파일 생성 open\n",
    "\n",
    "파일_객체 = open(파일_이름, 파일_열기_모드)\n",
    "\n",
    "r : 읽기 모드\n",
    "\n",
    "w : 쓰기 모드\n",
    "\n",
    "a : 추가 모드\n",
    "\n",
    "f.close() 열려있는 파일 객체를 닫아주는 역할. 자동으로 닫히긴 하지만 직접 닫는 것을 습관화하자. w모드로 열었던 파일 안닫고 다시 사용하려고 하면 오류 발생"
   ]
  },
  {
   "cell_type": "code",
   "execution_count": null,
   "metadata": {},
   "outputs": [],
   "source": [
    "#newfile.py\n",
    "f = open(\"새파일.txt\", \"w\")\n",
    "f.close()\n",
    "\n",
    "# newfile2.py\n",
    "f = open(\"C:/doit/새파일.txt\", 'w')\n",
    "f.close()\n",
    "## 경로지정도 할 수 있다.\n",
    "\n",
    "f = open(\"c:/doit/새파일.txt\", \"w\")\n",
    "for i in range(1, 11):\n",
    "    data = \"%d번째 줄입니다. \\n\" % i\n",
    "    f.write(data)\n",
    "f.close()\n",
    "## 새파일.txt 생성, 내용도 저장됨.\n"
   ]
  },
  {
   "cell_type": "markdown",
   "metadata": {},
   "source": [
    "#### 파일 읽기\n",
    "1. readline -파일 한 줄을 가져와 문자열로 반환\n",
    "2. readlines -파일 내용 전체를 가져와 리스트로 변환.\n",
    "3. read -파일 내용 전체를 가져와 문자열로 변환.\n",
    "4. for문 이용"
   ]
  },
  {
   "cell_type": "code",
   "execution_count": null,
   "metadata": {},
   "outputs": [],
   "source": [
    "# readline\n",
    "f = open(\"C:/dlit/새파일.txt\", \"r\")\n",
    "line = f.readline()\n",
    "print(line)\n",
    "f.close()\n",
    "\n",
    "# readline 으로 모든 줄을 출력\n",
    "# readline()은 더이상 읽을 줄이 없으면 빈 문자열 \"\"을 리턴함.\n",
    "f = open(\"C:/dlit/새파일.txt\", \"r\")\n",
    "while True:\n",
    "    line = f.readline()\n",
    "    if not line: break\n",
    "    print(line)\n",
    "f.close()\n",
    "\n",
    "#사용자의 입력을 받아서 출력하는 예시\n",
    "while True:\n",
    "    data = input()\n",
    "    if not data: break\n",
    "    print(data)\n",
    "\n",
    "\n",
    "# readlines\n",
    "\n",
    "f = open(\"C:/dlit/새파일.txt\", \"r\")\n",
    "lines = f.readlines()\n",
    "for line in lines:\n",
    "    print(line)\n",
    "f.close()\n",
    "\n",
    "# read\n",
    "f = open(\"C:/dlit/새파일.txt\", \"r\")\n",
    "data = f.read()\n",
    "print(data)\n",
    "f.close()\n",
    "\n",
    "# for문 이용\n",
    "f = open(\"C:/dlit/새파일.txt\", \"r\")\n",
    "for line in f:\n",
    "    print(line)\n",
    "f.close()"
   ]
  },
  {
   "cell_type": "markdown",
   "metadata": {},
   "source": [
    "#### 파일에 새로운 내용 추가하기\n",
    "w 모드로 파일을 열면 안의 내용이 다 사라지게 된다. 원래 내용을 유지하면서 새로운 값을 추가해야 할 때는 'a'모드 (추가 모드)로 열면 된다."
   ]
  },
  {
   "cell_type": "code",
   "execution_count": null,
   "metadata": {},
   "outputs": [],
   "source": [
    "f = open(\"C:/dlit/새파일.txt\", \"a\")\n",
    "for i in range(11, 20):\n",
    "    data = \"%d번째 줄입니다. \\n\" % i\n",
    "    f.write(data)\n",
    "f.close()"
   ]
  },
  {
   "cell_type": "code",
   "execution_count": 3,
   "metadata": {},
   "outputs": [],
   "source": [
    "## 파일을 닫는 게 귀찮을 때 with 이용\n",
    "\n",
    "with open(\"fubao\", \"w\") as f:\n",
    "    f. write(\"fubao's mbti is CUTE\")\n",
    "\n",
    "# with 블록을 벗어나는 순간 열린 파일 객체 f가 자동으로 닫힘."
   ]
  },
  {
   "cell_type": "markdown",
   "metadata": {},
   "source": [
    "#### 프로그램의 입출력\n",
    "\n",
    "- sys모듈 사용\n",
    "    sys 모듈로 프로그램에 인수 전달."
   ]
  },
  {
   "cell_type": "code",
   "execution_count": null,
   "metadata": {},
   "outputs": [],
   "source": [
    "import sys\n",
    "\n",
    "args = sys.argv[1:]\n",
    "for i in args:\n",
    "    print(i)\n",
    "\n",
    "#프로그램 실행 시 전달받은 인수를 for문으로 하나씩 출력.\n"
   ]
  },
  {
   "cell_type": "markdown",
   "metadata": {},
   "source": [
    "https://wikidocs.net/180507"
   ]
  },
  {
   "cell_type": "markdown",
   "metadata": {},
   "source": []
  }
 ],
 "metadata": {
  "kernelspec": {
   "display_name": "Python 3",
   "language": "python",
   "name": "python3"
  },
  "language_info": {
   "codemirror_mode": {
    "name": "ipython",
    "version": 3
   },
   "file_extension": ".py",
   "mimetype": "text/x-python",
   "name": "python",
   "nbconvert_exporter": "python",
   "pygments_lexer": "ipython3",
   "version": "3.9.13"
  },
  "orig_nbformat": 4
 },
 "nbformat": 4,
 "nbformat_minor": 2
}
