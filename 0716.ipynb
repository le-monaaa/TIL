{
 "cells": [
  {
   "cell_type": "markdown",
   "metadata": {},
   "source": [
    "#### 예외처리 (try, except)\n",
    "\n",
    "try 밑에 기본 문장 넣어주고 예외처리할 부분은 except 밑에 넣는다."
   ]
  },
  {
   "cell_type": "code",
   "execution_count": null,
   "metadata": {},
   "outputs": [],
   "source": [
    "\n",
    "def f(a, b):\n",
    "    try:\n",
    "        if a and b:\n",
    "            return(a * b) + (a / b)\n",
    "        elif a:\n",
    "            return '불능'\n",
    "        else:\n",
    "            return '부정'\n",
    "    except:\n",
    "        return '똑바로살아라아'\n",
    "\n"
   ]
  },
  {
   "cell_type": "markdown",
   "metadata": {},
   "source": [
    "#### 함수의 정의\n",
    "반복되는 사용되는 부분을 묶어서 편리하게 사용하기 위해서."
   ]
  },
  {
   "cell_type": "code",
   "execution_count": 1,
   "metadata": {},
   "outputs": [
    {
     "name": "stdout",
     "output_type": "stream",
     "text": [
      "7\n"
     ]
    }
   ],
   "source": [
    "\n",
    "def add(a, b):\n",
    "    return a + b\n",
    "\n",
    "c = add(3, 4)\n",
    "print(c)\n"
   ]
  },
  {
   "cell_type": "markdown",
   "metadata": {},
   "source": [
    "#### 입력값과 결괏값에 따른 함수의 형태\n",
    "1. 일반적인 함수\n",
    "\n",
    "\n",
    "    결괏값을 받을 변수 = 함수이름(입력인수1, 입력인수2, ...)\n",
    "\n",
    "2. 입력값이 없는 함수\n",
    "\n",
    "    결괏값을 받을 변수 = 함수이름()"
   ]
  },
  {
   "cell_type": "code",
   "execution_count": null,
   "metadata": {},
   "outputs": [],
   "source": [
    "def say():\n",
    "    return \"Hi\"\n",
    "\n",
    "a = say()\n",
    "print(a)"
   ]
  },
  {
   "cell_type": "markdown",
   "metadata": {},
   "source": [
    "3. 결괏값이 없는 함수\n",
    "\n",
    "    함수이름(입력인수1, 입력인수2, ...)"
   ]
  },
  {
   "cell_type": "code",
   "execution_count": 2,
   "metadata": {},
   "outputs": [
    {
     "name": "stdout",
     "output_type": "stream",
     "text": [
      "3, 4의 합은 7입니다.\n",
      "3, 4의 합은 7입니다.\n",
      "None\n"
     ]
    }
   ],
   "source": [
    "def add(a, b):\n",
    "    print(\"%d, %d의 합은 %d입니다.\" %(a, b, a+b))\n",
    "\n",
    "add(3,4)\n",
    "\n",
    "#결괏값은 오로지 return으로만 돌려받을 수 있다.\n",
    "\n",
    "a = add(3,4)\n",
    "print(a) # a에 값이 없다."
   ]
  },
  {
   "cell_type": "markdown",
   "metadata": {},
   "source": [
    "4. 입력값도 결괏값도 없는 함수\n",
    "\n",
    "    함수이름()"
   ]
  },
  {
   "cell_type": "code",
   "execution_count": 4,
   "metadata": {},
   "outputs": [
    {
     "name": "stdout",
     "output_type": "stream",
     "text": [
      "Hi\n"
     ]
    }
   ],
   "source": [
    "def say():\n",
    "    print('Hi')\n",
    "\n",
    "#입력 인수를 받는 매개변수X return문 x -->입력값도 결괏값도 없음.\n",
    "#사용은\n",
    "say()"
   ]
  },
  {
   "cell_type": "markdown",
   "metadata": {},
   "source": [
    "#### 매개변수 지정하여 호출하기\n",
    "\n",
    "매개변수를 지정하면 순서애 상관없이 사용할 수 있다."
   ]
  },
  {
   "cell_type": "code",
   "execution_count": 5,
   "metadata": {},
   "outputs": [
    {
     "name": "stdout",
     "output_type": "stream",
     "text": [
      "10\n",
      "8\n"
     ]
    }
   ],
   "source": [
    "def add(a, b):\n",
    "    return a+b\n",
    "\n",
    "\n",
    "result = add(a=3, b=7)\n",
    "print(result)\n",
    "\n",
    "result = add(b=5, a=3)\n",
    "print(result)"
   ]
  },
  {
   "cell_type": "markdown",
   "metadata": {},
   "source": [
    "#### 여러 개의 입력값을 받는 함수\n",
    "\n",
    "```\n",
    "def 함수이름(*매개변수):\n",
    "\n",
    "    수행할 문장\n",
    "```"
   ]
  },
  {
   "cell_type": "code",
   "execution_count": 7,
   "metadata": {},
   "outputs": [
    {
     "name": "stdout",
     "output_type": "stream",
     "text": [
      "6\n"
     ]
    }
   ],
   "source": [
    "def add_many(*args):\n",
    "    result = 0\n",
    "    for i in args:\n",
    "        result = result + i\n",
    "    return result\n",
    "\n",
    "# 매개변수앞에 *을 붙이면 입력값을 모두 모아서 튜플로 만들어준다.\n",
    "\n",
    "print(add_many(1,2,3))"
   ]
  },
  {
   "cell_type": "code",
   "execution_count": 8,
   "metadata": {},
   "outputs": [
    {
     "name": "stdout",
     "output_type": "stream",
     "text": [
      "15\n",
      "120\n"
     ]
    }
   ],
   "source": [
    "def add_mul(choice, *args):\n",
    "    if choice == \"add\":\n",
    "        result = 0\n",
    "        for i in args:\n",
    "            result = result + i\n",
    "    elif choice == \"mul\":\n",
    "        result = 1\n",
    "        for i in args:\n",
    "            result = result * i\n",
    "    return result\n",
    "\n",
    "print(add_mul('add', 1,2,3,4,5))\n",
    "print(add_mul('mul', 1,2,3,4,5))\n",
    "\n",
    "# 매개변수 이름으로 다양한 변수 사용 가능."
   ]
  },
  {
   "cell_type": "markdown",
   "metadata": {},
   "source": [
    "#### 키워드 파라미터\n",
    "\n",
    "매개변수 앞 **을 붙임 --> 매개변수는 딕셔너리가 되고 key=value 형태의 결괏값이 딕셔너리에 저장된다."
   ]
  },
  {
   "cell_type": "code",
   "execution_count": 9,
   "metadata": {},
   "outputs": [
    {
     "name": "stdout",
     "output_type": "stream",
     "text": [
      "{'a': 1}\n",
      "{'name': 'fubao', 'mbti': 'cute'}\n"
     ]
    }
   ],
   "source": [
    "def print_kwargs(**kwargs):\n",
    "    print(kwargs)\n",
    "\n",
    "print_kwargs(a=1)\n",
    "print_kwargs(name='fubao', mbti='cute')"
   ]
  },
  {
   "cell_type": "markdown",
   "metadata": {},
   "source": [
    "함수의 결괏값은 언제나 하나이다. 여러 연산의 결과를 결괏값으로 리턴한다면 튜플값 하나로 반환해준다."
   ]
  },
  {
   "cell_type": "code",
   "execution_count": 10,
   "metadata": {},
   "outputs": [
    {
     "name": "stdout",
     "output_type": "stream",
     "text": [
      "(7, 12)\n"
     ]
    }
   ],
   "source": [
    "def add_and_mul(a,b):\n",
    "    return a+b, a*b\n",
    "\n",
    "result = add_and_mul(3,4)\n",
    "print(result)\n"
   ]
  },
  {
   "cell_type": "code",
   "execution_count": 14,
   "metadata": {},
   "outputs": [
    {
     "name": "stdout",
     "output_type": "stream",
     "text": [
      "7\n",
      "나의 별명은 체리입니다\n"
     ]
    }
   ],
   "source": [
    "def add_and_mul(a,b):\n",
    "    return a+b\n",
    "    return a*b\n",
    "\n",
    "print(add_and_mul(3,4))\n",
    "\n",
    "# 함수는 return값을 만나는 순간 결괏값을 돌려준 후 바로 함수를 빠져나간다.두번쨰 return은 실행되지 않는다.\n",
    "## 특별한 상황일 떄 함수를 빠져나가고 싶은 경우 return을 단독으로 쓰기도 함.\n",
    "\n",
    "def nick(nick):\n",
    "    if nick == '바보':\n",
    "        return\n",
    "    print(\"나의 별명은 %s입니다\"%nick)\n",
    "\n",
    "nick('체리')\n",
    "nick('바보')"
   ]
  },
  {
   "cell_type": "code",
   "execution_count": 15,
   "metadata": {},
   "outputs": [
    {
     "name": "stdout",
     "output_type": "stream",
     "text": [
      "나의 이름은 김망고입니다\n",
      "저는 27살 입니다\n",
      "남자입니다\n",
      "나의 이름은 김체리입니다\n",
      "저는 22살 입니다\n",
      "여자입니다\n",
      "나의 이름은 김수박입니다\n",
      "저는 20살 입니다\n",
      "남자입니다\n"
     ]
    }
   ],
   "source": [
    "### 매개변수에 초깃값 미리 설정하기\n",
    "\n",
    "def myself(name, old, man=True):\n",
    "    print('나의 이름은 %s입니다' % name)\n",
    "    print('저는 %d살 입니다' %old)\n",
    "    if man:\n",
    "        print(\"남자입니다\")\n",
    "    else: print(\"여자입니다\")\n",
    "\n",
    "myself(\"김망고\", 27)\n",
    "myself('김체리', 22, False)\n",
    "myself('김수박', 20, 1)\n",
    "\n",
    "## non-default argument follows default argument\n",
    "## 초깃값을 설정해 둔 매개변수 뒤에 초깃값을 설정하지 않은 매개변수는 올 수 없다. 초기화시키고 싶은 매개변수는 항상 뒤에 배치."
   ]
  },
  {
   "cell_type": "code",
   "execution_count": 16,
   "metadata": {},
   "outputs": [
    {
     "name": "stdout",
     "output_type": "stream",
     "text": [
      "1\n"
     ]
    }
   ],
   "source": [
    "## 함수 내에서 선언한 변수의 효력 범위는 함수 내에서만.\n",
    "\n",
    "a = 1\n",
    "def vartest(a):\n",
    "    a = a + 1\n",
    "\n",
    "vartest(a)\n",
    "print(a)"
   ]
  },
  {
   "cell_type": "code",
   "execution_count": 20,
   "metadata": {},
   "outputs": [
    {
     "name": "stdout",
     "output_type": "stream",
     "text": [
      "2\n",
      "2\n"
     ]
    }
   ],
   "source": [
    "## 함수 안에서 함수 밖의 변수를 변경하는 방법\n",
    "# 1. return문 사용\n",
    "\n",
    "a = 1\n",
    "def vartest(a):\n",
    "    a = a + 1\n",
    "    return a\n",
    "\n",
    "a = vartest(a)\n",
    "print(a)\n",
    "\n",
    "# vartest 안의 매개변수 a는 함수 밖의 매개변수 a와 다름\n",
    "\n",
    "# 2. global 명령어 사용\n",
    "\n",
    "b = 1\n",
    "def vartest2():\n",
    "    global b\n",
    "    b = b + 1\n",
    "\n",
    "vartest2()\n",
    "print(b)\n",
    "\n",
    "# 웬만하면 안쓰는게 좋다. 외부 변수에 종속적인 함수는 좋은 함수가 아니다."
   ]
  },
  {
   "cell_type": "markdown",
   "metadata": {},
   "source": [
    "#### lambda\n",
    "함수 생성 시 사용하는 예약어. 한 줄로 간결하게 작성할 때 사용. \n",
    "lambda 매개변수1, 매개변수2, ...: 매개변수를 사용한 표현식\n"
   ]
  },
  {
   "cell_type": "code",
   "execution_count": 21,
   "metadata": {},
   "outputs": [
    {
     "name": "stdout",
     "output_type": "stream",
     "text": [
      "7\n"
     ]
    }
   ],
   "source": [
    "add = lambda a, b: a + b\n",
    "result = add(3, 4)\n",
    "print(result)\n"
   ]
  }
 ],
 "metadata": {
  "kernelspec": {
   "display_name": "Python 3",
   "language": "python",
   "name": "python3"
  },
  "language_info": {
   "codemirror_mode": {
    "name": "ipython",
    "version": 3
   },
   "file_extension": ".py",
   "mimetype": "text/x-python",
   "name": "python",
   "nbconvert_exporter": "python",
   "pygments_lexer": "ipython3",
   "version": "3.11.4"
  },
  "orig_nbformat": 4
 },
 "nbformat": 4,
 "nbformat_minor": 2
}
